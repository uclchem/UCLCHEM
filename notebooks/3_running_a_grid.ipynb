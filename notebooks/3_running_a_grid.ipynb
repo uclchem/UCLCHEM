{
 "cells": [
  {
   "cell_type": "markdown",
   "metadata": {},
   "source": [
    "# Running a Grid\n",
    "\n",
    "A common task is to run UCLCHEM over a grid of parameter combinations. This notebook sets up a simple approach to doing so for regular grids."
   ]
  },
  {
   "cell_type": "code",
   "execution_count": 1,
   "metadata": {
    "ExecuteTime": {
     "end_time": "2025-07-31T10:16:23.881319Z",
     "start_time": "2025-07-31T10:16:23.258771Z"
    },
    "lines_to_next_cell": 2
   },
   "outputs": [],
   "source": [
    "import uclchem\n",
    "import numpy as np\n",
    "import pandas as pd\n",
    "import os\n",
    "from joblib import Parallel, delayed"
   ]
  },
  {
   "cell_type": "markdown",
   "metadata": {},
   "source": [
    "## A Simple Grid\n",
    "### Define Parameter Space\n",
    "First, we define our parameter space. We do this by using numpy and pandas to produce a table of all possible combinations of some parameters of interest."
   ]
  },
  {
   "cell_type": "code",
   "execution_count": 2,
   "metadata": {
    "ExecuteTime": {
     "end_time": "2025-07-31T10:16:24.309715Z",
     "start_time": "2025-07-31T10:16:24.305693Z"
    }
   },
   "outputs": [
    {
     "name": "stdout",
     "output_type": "stream",
     "text": [
      "8 models to run\n"
     ]
    }
   ],
   "source": [
    "# This part can be substituted with any choice of grid\n",
    "# here we just vary the density, temperature and zeta\n",
    "temperatures = np.linspace(10, 50, 2)\n",
    "densities = np.logspace(4, 6, 2)\n",
    "zetas = np.logspace(1, 3, 2)\n",
    "\n",
    "# meshgrid will give all combinations, then we shape into columns and put into a table\n",
    "parameterSpace = np.asarray(np.meshgrid(temperatures, densities, zetas)).reshape(3, -1)\n",
    "model_table = pd.DataFrame(parameterSpace.T, columns=[\"temperature\", \"density\", \"zeta\"])\n",
    "\n",
    "# keep track of where each model output will be saved and make sure that folder exists\n",
    "model_table[\"outputFile\"] = model_table.apply(\n",
    "    lambda row: f\"../grid_folder/{row.temperature}_{row.density}_{row.zeta}.csv\", axis=1\n",
    ")\n",
    "print(f\"{model_table.shape[0]} models to run\")\n",
    "if not os.path.exists(\"../grid_folder\"):\n",
    "    os.makedirs(\"../grid_folder\")"
   ]
  },
  {
   "cell_type": "code",
   "execution_count": 3,
   "metadata": {
    "ExecuteTime": {
     "end_time": "2025-07-31T10:16:25.282056Z",
     "start_time": "2025-07-31T10:16:25.276340Z"
    }
   },
   "outputs": [
    {
     "data": {
      "text/html": [
       "<div>\n",
       "<style scoped>\n",
       "    .dataframe tbody tr th:only-of-type {\n",
       "        vertical-align: middle;\n",
       "    }\n",
       "\n",
       "    .dataframe tbody tr th {\n",
       "        vertical-align: top;\n",
       "    }\n",
       "\n",
       "    .dataframe thead th {\n",
       "        text-align: right;\n",
       "    }\n",
       "</style>\n",
       "<table border=\"1\" class=\"dataframe\">\n",
       "  <thead>\n",
       "    <tr style=\"text-align: right;\">\n",
       "      <th></th>\n",
       "      <th>temperature</th>\n",
       "      <th>density</th>\n",
       "      <th>zeta</th>\n",
       "      <th>outputFile</th>\n",
       "    </tr>\n",
       "  </thead>\n",
       "  <tbody>\n",
       "    <tr>\n",
       "      <th>0</th>\n",
       "      <td>10.0</td>\n",
       "      <td>10000.0</td>\n",
       "      <td>10.0</td>\n",
       "      <td>../grid_folder/10.0_10000.0_10.0.csv</td>\n",
       "    </tr>\n",
       "    <tr>\n",
       "      <th>1</th>\n",
       "      <td>10.0</td>\n",
       "      <td>10000.0</td>\n",
       "      <td>1000.0</td>\n",
       "      <td>../grid_folder/10.0_10000.0_1000.0.csv</td>\n",
       "    </tr>\n",
       "    <tr>\n",
       "      <th>2</th>\n",
       "      <td>50.0</td>\n",
       "      <td>10000.0</td>\n",
       "      <td>10.0</td>\n",
       "      <td>../grid_folder/50.0_10000.0_10.0.csv</td>\n",
       "    </tr>\n",
       "    <tr>\n",
       "      <th>3</th>\n",
       "      <td>50.0</td>\n",
       "      <td>10000.0</td>\n",
       "      <td>1000.0</td>\n",
       "      <td>../grid_folder/50.0_10000.0_1000.0.csv</td>\n",
       "    </tr>\n",
       "    <tr>\n",
       "      <th>4</th>\n",
       "      <td>10.0</td>\n",
       "      <td>1000000.0</td>\n",
       "      <td>10.0</td>\n",
       "      <td>../grid_folder/10.0_1000000.0_10.0.csv</td>\n",
       "    </tr>\n",
       "  </tbody>\n",
       "</table>\n",
       "</div>"
      ],
      "text/plain": [
       "   temperature    density    zeta                              outputFile\n",
       "0         10.0    10000.0    10.0    ../grid_folder/10.0_10000.0_10.0.csv\n",
       "1         10.0    10000.0  1000.0  ../grid_folder/10.0_10000.0_1000.0.csv\n",
       "2         50.0    10000.0    10.0    ../grid_folder/50.0_10000.0_10.0.csv\n",
       "3         50.0    10000.0  1000.0  ../grid_folder/50.0_10000.0_1000.0.csv\n",
       "4         10.0  1000000.0    10.0  ../grid_folder/10.0_1000000.0_10.0.csv"
      ]
     },
     "execution_count": 3,
     "metadata": {},
     "output_type": "execute_result"
    }
   ],
   "source": [
    "model_table.head()"
   ]
  },
  {
   "cell_type": "markdown",
   "metadata": {},
   "source": [
    "### Set up the model\n",
    "Next, we need a function that will run our model. We write a quick function that takes a row from our dataframe and uses it to populate a parameter dictionary for UCLCHEM and then run a cloud model. We can then map our dataframe to that function."
   ]
  },
  {
   "cell_type": "code",
   "execution_count": 4,
   "metadata": {
    "ExecuteTime": {
     "end_time": "2025-07-31T10:16:25.902440Z",
     "start_time": "2025-07-31T10:16:25.900322Z"
    }
   },
   "outputs": [],
   "source": [
    "def run_model(row):\n",
    "    # basic set of parameters we'll use for this grid.\n",
    "    ParameterDictionary = {\n",
    "        \"endatfinaldensity\": False,\n",
    "        \"freefall\": False,\n",
    "        \"initialDens\": row.density,\n",
    "        \"initialTemp\": row.temperature,\n",
    "        \"zeta\": row.zeta,\n",
    "        \"outputFile\": row.outputFile,\n",
    "        \"finalTime\": 1.0e6,\n",
    "        \"baseAv\": 10,\n",
    "        \"abstol_min\": 1e-22,\n",
    "    }\n",
    "    result = uclchem.model.functional.cloud(param_dict=ParameterDictionary)\n",
    "    return result[0]  # just the integer error code"
   ]
  },
  {
   "cell_type": "markdown",
   "metadata": {},
   "source": [
    "### Run Grid \n",
    "\n",
    "#### The Simple Way\n",
    "We can use pandas apply to simply pass each row to our helper function in turn. This will take some time since we're running the models one by one. I'll use the `head` function just to run five rows as an example here."
   ]
  },
  {
   "cell_type": "code",
   "execution_count": 5,
   "metadata": {
    "ExecuteTime": {
     "end_time": "2025-07-31T10:20:43.843112Z",
     "start_time": "2025-07-31T10:16:27.014785Z"
    }
   },
   "outputs": [
    {
     "name": "stdout",
     "output_type": "stream",
     "text": [
      " At current T(=R1), MXSTEP(=I1) steps                                            \n",
      " taken on this call before reaching TOUT.                                        \n",
      "In the above message, I1 =      10000\n",
      "In the above message, R1 =   0.1766686033805D+14\n",
      " ISTATE -1: Reducing time step to    4092.2141810675225      years\n",
      " At current T(=R1), MXSTEP(=I1) steps                                            \n",
      " taken on this call before reaching TOUT.                                        \n",
      "In the above message, I1 =      10000\n",
      "In the above message, R1 =   0.2058277284731D+14\n",
      " ISTATE -1: Reducing time step to    4864.6429607439832      years\n",
      " At current T(=R1), MXSTEP(=I1) steps                                            \n",
      " taken on this call before reaching TOUT.                                        \n",
      "In the above message, I1 =      10000\n",
      "In the above message, R1 =   0.2365087022242D+14\n",
      " ISTATE -1: Reducing time step to    5155.4740565119273      years\n",
      " At current T(=R1), MXSTEP(=I1) steps                                            \n",
      " taken on this call before reaching TOUT.                                        \n",
      "In the above message, I1 =      10000\n",
      "In the above message, R1 =   0.2516300977557D+14\n",
      " ISTATE -1: Reducing time step to    370.22223471493385      years\n",
      " At current T(=R1), MXSTEP(=I1) steps                                            \n",
      " taken on this call before reaching TOUT.                                        \n",
      "In the above message, I1 =      10000\n",
      "In the above message, R1 =   0.2677813811846D+14\n",
      " ISTATE -1: Reducing time step to    5259.0566655122120      years\n",
      " At current T(=R1), MXSTEP(=I1) steps                                            \n",
      " taken on this call before reaching TOUT.                                        \n",
      "In the above message, I1 =      10000\n",
      "In the above message, R1 =   0.2826934651741D+14\n",
      " ISTATE -1: Reducing time step to    540.04267446427968      years\n",
      " At current T(=R1), MXSTEP(=I1) steps                                            \n",
      " taken on this call before reaching TOUT.                                        \n",
      "In the above message, I1 =      10000\n",
      "In the above message, R1 =   0.2992030036454D+14\n",
      " ISTATE -1: Reducing time step to    5315.5052547010564      years\n",
      " At current T(=R1), MXSTEP(=I1) steps                                            \n",
      " taken on this call before reaching TOUT.                                        \n",
      "In the above message, I1 =      10000\n",
      "In the above message, R1 =   0.3139069739274D+14\n",
      " ISTATE -1: Reducing time step to    662.35003285171183      years\n",
      "CPU times: user 8min 42s, sys: 3.44 s, total: 8min 45s\n",
      "Wall time: 9min\n"
     ]
    }
   ],
   "source": [
    "%%time\n",
    "result = model_table.head().apply(run_model, axis=1)"
   ]
  },
  {
   "cell_type": "markdown",
   "metadata": {},
   "source": [
    "#### The Fast Way\n",
    "Alternatively, we can use multiprocessing to run the models in parallel. That will allow us to run many models simulataneously and make use of all the cores available on our machine."
   ]
  },
  {
   "cell_type": "code",
   "execution_count": 6,
   "metadata": {
    "ExecuteTime": {
     "end_time": "2025-07-31T10:24:46.805116Z",
     "start_time": "2025-07-31T10:20:43.911876Z"
    }
   },
   "outputs": [
    {
     "name": "stdout",
     "output_type": "stream",
     "text": [
      "[Parallel(n_jobs=8)]: Using backend LokyBackend with 8 concurrent workers.\n",
      "[Parallel(n_jobs=8)]: Done   1 tasks      | elapsed:    4.4s\n",
      "[Parallel(n_jobs=8)]: Done   2 out of   8 | elapsed:    6.4s remaining:   19.1s\n",
      "[Parallel(n_jobs=8)]: Done   3 out of   8 | elapsed:    6.7s remaining:   11.2s\n",
      "[Parallel(n_jobs=8)]: Done   4 out of   8 | elapsed:    8.2s remaining:    8.2s\n",
      "[Parallel(n_jobs=8)]: Done   5 out of   8 | elapsed:    9.7s remaining:    5.8s\n",
      "[Parallel(n_jobs=8)]: Done   6 out of   8 | elapsed:   10.0s remaining:    3.3s\n",
      " At current T(=R1), MXSTEP(=I1) steps                                            \n",
      " taken on this call before reaching TOUT.                                        \n",
      "In the above message, I1 =      10000\n",
      "In the above message, R1 =   0.1766686033805D+14\n",
      " ISTATE -1: Reducing time step to    4092.2141810675225      years\n",
      " At current T(=R1), MXSTEP(=I1) steps                                            \n",
      " taken on this call before reaching TOUT.                                        \n",
      "In the above message, I1 =      10000\n",
      "In the above message, R1 =   0.2058277284731D+14\n",
      " ISTATE -1: Reducing time step to    4864.6429607439832      years\n",
      " At current T(=R1), MXSTEP(=I1) steps                                            \n",
      " taken on this call before reaching TOUT.                                        \n",
      "In the above message, I1 =      10000\n",
      "In the above message, R1 =   0.2365087022242D+14\n",
      " ISTATE -1: Reducing time step to    5155.4740565119273      years\n",
      " At current T(=R1), MXSTEP(=I1) steps                                            \n",
      " taken on this call before reaching TOUT.                                        \n",
      "In the above message, I1 =      10000\n",
      "In the above message, R1 =   0.2516300977557D+14\n",
      " ISTATE -1: Reducing time step to    370.22223471493385      years\n",
      " At current T(=R1), MXSTEP(=I1) steps                                            \n",
      " taken on this call before reaching TOUT.                                        \n",
      "In the above message, I1 =      10000\n",
      "In the above message, R1 =   0.2677813811846D+14\n",
      " ISTATE -1: Reducing time step to    5259.0566655122120      years\n",
      " At current T(=R1), MXSTEP(=I1) steps                                            \n",
      " taken on this call before reaching TOUT.                                        \n",
      "In the above message, I1 =      10000\n",
      "In the above message, R1 =   0.2826934651741D+14\n",
      " ISTATE -1: Reducing time step to    540.04267446427968      years\n",
      " At current T(=R1), MXSTEP(=I1) steps                                            \n",
      " taken on this call before reaching TOUT.                                        \n",
      "In the above message, I1 =      10000\n",
      "In the above message, R1 =   0.2992030036454D+14\n",
      " ISTATE -1: Reducing time step to    5315.5052547010564      years\n",
      " At current T(=R1), MXSTEP(=I1) steps                                            \n",
      " taken on this call before reaching TOUT.                                        \n",
      "In the above message, I1 =      10000\n",
      "In the above message, R1 =   0.3139069739274D+14\n",
      " ISTATE -1: Reducing time step to    662.35003285171183      years\n",
      "[Parallel(n_jobs=8)]: Done   8 out of   8 | elapsed:  8.2min finished\n",
      "CPU times: user 246 ms, sys: 201 ms, total: 448 ms\n",
      "Wall time: 8min 14s\n"
     ]
    }
   ],
   "source": [
    "%%time\n",
    "results = Parallel(n_jobs=8, verbose=100)(\n",
    "    delayed(run_model)(row) for idx, row in model_table.iterrows()\n",
    ")"
   ]
  },
  {
   "cell_type": "markdown",
   "metadata": {},
   "source": [
    "## Checking Your Grid\n",
    "After running, we should do two things. First, let's add `results` to our dataframe as a new column. Positive results mean a successful UCLCHEM run and negative ones are unsuccessful. Then we can run each model through `check_element_conservation` to check the integration was successful. We'll use both these things to flag models that failed in some way."
   ]
  },
  {
   "cell_type": "code",
   "execution_count": 7,
   "metadata": {
    "ExecuteTime": {
     "end_time": "2025-07-31T10:24:46.816218Z",
     "start_time": "2025-07-31T10:24:46.814512Z"
    }
   },
   "outputs": [],
   "source": [
    "def element_check(output_file):\n",
    "    df = uclchem.analysis.read_output_file(output_file)\n",
    "    # get conservation values\n",
    "    conserves = uclchem.analysis.check_element_conservation(df)\n",
    "    # check if any error is greater than 1%\n",
    "    return all([float(x[:-1]) < 1 for x in conserves.values()])"
   ]
  },
  {
   "cell_type": "code",
   "execution_count": 8,
   "metadata": {
    "ExecuteTime": {
     "end_time": "2025-07-31T10:24:47.056124Z",
     "start_time": "2025-07-31T10:24:46.861864Z"
    }
   },
   "outputs": [],
   "source": [
    "model_table[\"run_result\"] = results\n",
    "model_table[\"elements_conserved\"] = model_table[\"outputFile\"].map(element_check)\n",
    "# check both conditions are met\n",
    "model_table[\"Successful\"] = (model_table.run_result >= 0) & (\n",
    "    model_table.elements_conserved\n",
    ")"
   ]
  },
  {
   "cell_type": "code",
   "execution_count": 9,
   "metadata": {
    "ExecuteTime": {
     "end_time": "2025-07-31T10:24:47.068240Z",
     "start_time": "2025-07-31T10:24:47.064282Z"
    }
   },
   "outputs": [
    {
     "data": {
      "text/html": [
       "<div>\n",
       "<style scoped>\n",
       "    .dataframe tbody tr th:only-of-type {\n",
       "        vertical-align: middle;\n",
       "    }\n",
       "\n",
       "    .dataframe tbody tr th {\n",
       "        vertical-align: top;\n",
       "    }\n",
       "\n",
       "    .dataframe thead th {\n",
       "        text-align: right;\n",
       "    }\n",
       "</style>\n",
       "<table border=\"1\" class=\"dataframe\">\n",
       "  <thead>\n",
       "    <tr style=\"text-align: right;\">\n",
       "      <th></th>\n",
       "      <th>temperature</th>\n",
       "      <th>density</th>\n",
       "      <th>zeta</th>\n",
       "      <th>outputFile</th>\n",
       "      <th>run_result</th>\n",
       "      <th>elements_conserved</th>\n",
       "      <th>Successful</th>\n",
       "    </tr>\n",
       "  </thead>\n",
       "  <tbody>\n",
       "    <tr>\n",
       "      <th>0</th>\n",
       "      <td>10.0</td>\n",
       "      <td>10000.0</td>\n",
       "      <td>10.0</td>\n",
       "      <td>../grid_folder/10.0_10000.0_10.0.csv</td>\n",
       "      <td>0</td>\n",
       "      <td>True</td>\n",
       "      <td>True</td>\n",
       "    </tr>\n",
       "    <tr>\n",
       "      <th>1</th>\n",
       "      <td>10.0</td>\n",
       "      <td>10000.0</td>\n",
       "      <td>1000.0</td>\n",
       "      <td>../grid_folder/10.0_10000.0_1000.0.csv</td>\n",
       "      <td>0</td>\n",
       "      <td>True</td>\n",
       "      <td>True</td>\n",
       "    </tr>\n",
       "    <tr>\n",
       "      <th>2</th>\n",
       "      <td>50.0</td>\n",
       "      <td>10000.0</td>\n",
       "      <td>10.0</td>\n",
       "      <td>../grid_folder/50.0_10000.0_10.0.csv</td>\n",
       "      <td>0</td>\n",
       "      <td>True</td>\n",
       "      <td>True</td>\n",
       "    </tr>\n",
       "    <tr>\n",
       "      <th>3</th>\n",
       "      <td>50.0</td>\n",
       "      <td>10000.0</td>\n",
       "      <td>1000.0</td>\n",
       "      <td>../grid_folder/50.0_10000.0_1000.0.csv</td>\n",
       "      <td>0</td>\n",
       "      <td>True</td>\n",
       "      <td>True</td>\n",
       "    </tr>\n",
       "    <tr>\n",
       "      <th>4</th>\n",
       "      <td>10.0</td>\n",
       "      <td>1000000.0</td>\n",
       "      <td>10.0</td>\n",
       "      <td>../grid_folder/10.0_1000000.0_10.0.csv</td>\n",
       "      <td>0</td>\n",
       "      <td>True</td>\n",
       "      <td>True</td>\n",
       "    </tr>\n",
       "  </tbody>\n",
       "</table>\n",
       "</div>"
      ],
      "text/plain": [
       "   temperature    density    zeta                              outputFile  \\\n",
       "0         10.0    10000.0    10.0    ../grid_folder/10.0_10000.0_10.0.csv   \n",
       "1         10.0    10000.0  1000.0  ../grid_folder/10.0_10000.0_1000.0.csv   \n",
       "2         50.0    10000.0    10.0    ../grid_folder/50.0_10000.0_10.0.csv   \n",
       "3         50.0    10000.0  1000.0  ../grid_folder/50.0_10000.0_1000.0.csv   \n",
       "4         10.0  1000000.0    10.0  ../grid_folder/10.0_1000000.0_10.0.csv   \n",
       "\n",
       "   run_result  elements_conserved  Successful  \n",
       "0           0                True        True  \n",
       "1           0                True        True  \n",
       "2           0                True        True  \n",
       "3           0                True        True  \n",
       "4           0                True        True  "
      ]
     },
     "execution_count": 9,
     "metadata": {},
     "output_type": "execute_result"
    }
   ],
   "source": [
    "model_table.head()"
   ]
  },
  {
   "cell_type": "markdown",
   "metadata": {},
   "source": [
    "## Complex Grid\n",
    "\n",
    "The above was straightforward enough but what about a modelling a grid of shocks? Not only do we want to loop over relevant parameters, we also need to run a few preliminary models to give ourselves starting abundances. We'll start by defining two helper functions, one to run our preliminary cloud and one to run the shock.\n",
    "\n",
    "Let's further imagine that we want to obtain the abundances of several species at the end of the model. We can use the `out_species` parameter to specify which species we want to track and return them to our dataframe."
   ]
  },
  {
   "cell_type": "code",
   "execution_count": 10,
   "metadata": {
    "ExecuteTime": {
     "end_time": "2025-07-31T10:24:59.863161Z",
     "start_time": "2025-07-31T10:24:59.859069Z"
    }
   },
   "outputs": [],
   "source": [
    "out_species = [\"CO\", \"H2O\", \"CH3OH\"]\n",
    "\n",
    "\n",
    "def run_prelim(density):\n",
    "    # basic set of parameters we'll use for this grid.\n",
    "    ParameterDictionary = {\n",
    "        \"endatfinaldensity\": True,\n",
    "        \"freefall\": True,\n",
    "        \"initialDens\": 1e2,\n",
    "        \"finalDens\": float(density),\n",
    "        \"initialTemp\": 10.0,\n",
    "        \"abundSaveFile\": f\"../grid_folder/starts/{density:.0f}.csv\",\n",
    "        \"baseAv\": 1,\n",
    "    }\n",
    "    result = uclchem.model.functional.cloud(param_dict=ParameterDictionary)\n",
    "    return result\n",
    "\n",
    "\n",
    "def run_model(row):\n",
    "    # basic set of parameters we'll use for this grid.\n",
    "    ParameterDictionary = {\n",
    "        \"endatfinaldensity\": False,\n",
    "        \"freefall\": False,\n",
    "        \"initialDens\": float(row.density),\n",
    "        \"initialTemp\": 10.0,\n",
    "        \"outputFile\": row.outputFile,\n",
    "        \"abundLoadFile\": f\"../grid_folder/starts/{row.density:.0f}.csv\",\n",
    "        \"finalTime\": 1.0e5,\n",
    "        \"abstol_factor\": 1e-14,\n",
    "        \"abstol_min\": 1e-20,\n",
    "        \"reltol\": 1e-6,\n",
    "        \"baseAv\": 1,\n",
    "    }\n",
    "    result = uclchem.model.functional.cshock(\n",
    "        row.shock_velocity, param_dict=ParameterDictionary, out_species=out_species\n",
    "    )\n",
    "    # First check UCLCHEM's result flag to seeif it ran succesfully, if it is return the abundances\n",
    "    if result[0] == 0:\n",
    "        return result[:]\n",
    "    # if not, return NaNs because model failed\n",
    "    else:\n",
    "        return [np.nan] * len(out_species)"
   ]
  },
  {
   "cell_type": "markdown",
   "metadata": {},
   "source": [
    "Then we define our parameter space again. We'll create two folders, one to store a set of initial abundances for each starting density in our model and another to store our shock outputs."
   ]
  },
  {
   "cell_type": "code",
   "execution_count": 11,
   "metadata": {
    "ExecuteTime": {
     "end_time": "2025-07-31T10:25:01.400496Z",
     "start_time": "2025-07-31T10:25:01.395223Z"
    }
   },
   "outputs": [
    {
     "name": "stdout",
     "output_type": "stream",
     "text": [
      "4 models to run\n"
     ]
    }
   ],
   "source": [
    "# This part can be substituted with any choice of grid\n",
    "# here we just combine various initial and final densities into an easily iterable array\n",
    "shock_velocities = np.linspace(10, 20, 2)\n",
    "densities = np.logspace(4, 6, 2)\n",
    "\n",
    "parameterSpace = np.asarray(np.meshgrid(shock_velocities, densities)).reshape(2, -1)\n",
    "model_table = pd.DataFrame(parameterSpace.T, columns=[\"shock_velocity\", \"density\"])\n",
    "model_table[\"outputFile\"] = model_table.apply(\n",
    "    lambda row: f\"../grid_folder/shocks/{row.shock_velocity}_{row.density}.csv\", axis=1\n",
    ")\n",
    "print(f\"{model_table.shape[0]} models to run\")\n",
    "\n",
    "for folder in [\"starts\", \"shocks\"]:\n",
    "    if not os.path.exists(f\"../grid_folder/{folder}\"):\n",
    "        os.makedirs(f\"../grid_folder/{folder}\")"
   ]
  },
  {
   "cell_type": "markdown",
   "metadata": {},
   "source": [
    "We can then run our preliminary models followed by our science models. The science models will return the abundances at the final time step of each run so we can unpack those directly to our dataframe."
   ]
  },
  {
   "cell_type": "code",
   "execution_count": 12,
   "metadata": {
    "ExecuteTime": {
     "end_time": "2025-07-31T10:25:08.756495Z",
     "start_time": "2025-07-31T10:25:02.518692Z"
    }
   },
   "outputs": [
    {
     "name": "stdout",
     "output_type": "stream",
     "text": [
      "[Parallel(n_jobs=4)]: Using backend LokyBackend with 4 concurrent workers.\n",
      "[Parallel(n_jobs=4)]: Done   1 tasks      | elapsed:    8.7s\n",
      "[Parallel(n_jobs=4)]: Done   2 out of   2 | elapsed:   10.8s finished\n"
     ]
    }
   ],
   "source": [
    "results = Parallel(n_jobs=4, verbose=100)(\n",
    "    delayed(run_prelim)(dens) for dens in densities\n",
    ")"
   ]
  },
  {
   "cell_type": "code",
   "execution_count": 13,
   "metadata": {
    "ExecuteTime": {
     "end_time": "2025-07-31T10:26:29.692307Z",
     "start_time": "2025-07-31T10:25:08.768404Z"
    }
   },
   "outputs": [
    {
     "name": "stdout",
     "output_type": "stream",
     "text": [
      "[Parallel(n_jobs=4)]: Using backend LokyBackend with 4 concurrent workers.\n",
      " At current T(=R1), MXSTEP(=I1) steps                                            \n",
      " taken on this call before reaching TOUT.                                        \n",
      "In the above message, I1 =      10000\n",
      "In the above message, R1 =   0.3986335340045D+08\n",
      " ISTATE -1: Reducing time step to    2.7590082675276158E-003 years\n",
      "[Parallel(n_jobs=4)]: Done   1 tasks      | elapsed:   14.6s\n",
      " At current T(=R1), MXSTEP(=I1) steps                                            \n",
      " taken on this call before reaching TOUT.                                        \n",
      "In the above message, I1 =      10000\n",
      "In the above message, R1 =   0.4005613286700D+08\n",
      " ISTATE -1: Reducing time step to    2.1489466554339615E-003 years\n",
      " At current T(=R1), MXSTEP(=I1) steps                                            \n",
      " taken on this call before reaching TOUT.                                        \n",
      "In the above message, I1 =      10000\n",
      "In the above message, R1 =   0.4022683044507D+08\n",
      " ISTATE -1: Reducing time step to    1.6087644382928865E-003 years\n",
      "[Parallel(n_jobs=4)]: Done   2 out of   4 | elapsed:   27.1s remaining:   27.1s\n",
      " At current T(=R1), MXSTEP(=I1) steps                                            \n",
      " taken on this call before reaching TOUT.                                        \n",
      "In the above message, I1 =      10000\n",
      "In the above message, R1 =   0.4038526295677D+08\n",
      " ISTATE -1: Reducing time step to    1.1073957229302627E-003 years\n",
      " At current T(=R1), MXSTEP(=I1) steps                                            \n",
      " taken on this call before reaching TOUT.                                        \n",
      "In the above message, I1 =      10000\n",
      "In the above message, R1 =   0.4053536086559D+08\n",
      " ISTATE -1: Reducing time step to    6.3240233350722629E-004 years\n",
      " At current T(=R1), MXSTEP(=I1) steps                                            \n",
      " taken on this call before reaching TOUT.                                        \n",
      "In the above message, I1 =      10000\n",
      "In the above message, R1 =   0.4067953456923D+08\n",
      " ISTATE -1: Reducing time step to    1.7615642912494563E-004 years\n",
      " At current T(=R1), MXSTEP(=I1) steps                                            \n",
      " taken on this call before reaching TOUT.                                        \n",
      "In the above message, I1 =      10000\n",
      "In the above message, R1 =   0.4074158513753D+08\n",
      " ISTATE -1: Reducing time step to    1.1698781384668532E-002 years\n",
      " At current T(=R1), MXSTEP(=I1) steps                                            \n",
      " taken on this call before reaching TOUT.                                        \n",
      "In the above message, I1 =      10000\n",
      "In the above message, R1 =   0.4074316986739D+08\n",
      " ISTATE -1: Reducing time step to    1.1693766416681465E-002 years\n",
      " At current T(=R1), MXSTEP(=I1) steps                                            \n",
      " taken on this call before reaching TOUT.                                        \n",
      "In the above message, I1 =      10000\n",
      "In the above message, R1 =   0.4074472763490D+08\n",
      " ISTATE -1: Reducing time step to    1.1688836772585564E-002 years\n",
      " At current T(=R1), MXSTEP(=I1) steps                                            \n",
      " taken on this call before reaching TOUT.                                        \n",
      "In the above message, I1 =      10000\n",
      "In the above message, R1 =   0.4074631872185D+08\n",
      " ISTATE -1: Reducing time step to    1.1683801687243490E-002 years\n",
      " At current T(=R1), MXSTEP(=I1) steps                                            \n",
      " taken on this call before reaching TOUT.                                        \n",
      "In the above message, I1 =      10000\n",
      "In the above message, R1 =   0.4074797843609D+08\n",
      " ISTATE -1: Reducing time step to    1.1678549426902206E-002 years\n",
      "[Parallel(n_jobs=4)]: Done   4 out of   4 | elapsed:  1.6min finished\n"
     ]
    }
   ],
   "source": [
    "results = Parallel(n_jobs=4, verbose=100)(\n",
    "    delayed(run_model)(row) for idx, row in model_table.iterrows()\n",
    ")"
   ]
  },
  {
   "cell_type": "code",
   "execution_count": 14,
   "metadata": {
    "ExecuteTime": {
     "end_time": "2025-07-31T10:26:29.745219Z",
     "start_time": "2025-07-31T10:26:29.742121Z"
    }
   },
   "outputs": [],
   "source": [
    "model_table[[\"Result\", \"Dissipation Time\"] + out_species] = results"
   ]
  },
  {
   "cell_type": "code",
   "execution_count": 15,
   "metadata": {
    "ExecuteTime": {
     "end_time": "2025-07-31T10:26:29.793490Z",
     "start_time": "2025-07-31T10:26:29.789433Z"
    }
   },
   "outputs": [
    {
     "data": {
      "text/html": [
       "<div>\n",
       "<style scoped>\n",
       "    .dataframe tbody tr th:only-of-type {\n",
       "        vertical-align: middle;\n",
       "    }\n",
       "\n",
       "    .dataframe tbody tr th {\n",
       "        vertical-align: top;\n",
       "    }\n",
       "\n",
       "    .dataframe thead th {\n",
       "        text-align: right;\n",
       "    }\n",
       "</style>\n",
       "<table border=\"1\" class=\"dataframe\">\n",
       "  <thead>\n",
       "    <tr style=\"text-align: right;\">\n",
       "      <th></th>\n",
       "      <th>shock_velocity</th>\n",
       "      <th>density</th>\n",
       "      <th>outputFile</th>\n",
       "      <th>Result</th>\n",
       "      <th>Dissipation Time</th>\n",
       "      <th>CO</th>\n",
       "      <th>H2O</th>\n",
       "      <th>CH3OH</th>\n",
       "    </tr>\n",
       "  </thead>\n",
       "  <tbody>\n",
       "    <tr>\n",
       "      <th>0</th>\n",
       "      <td>10.0</td>\n",
       "      <td>10000.0</td>\n",
       "      <td>../grid_folder/shocks/10.0_10000.0.csv</td>\n",
       "      <td>0.0</td>\n",
       "      <td>1171.898734</td>\n",
       "      <td>6.166748e-05</td>\n",
       "      <td>2.087114e-05</td>\n",
       "      <td>1.156585e-08</td>\n",
       "    </tr>\n",
       "    <tr>\n",
       "      <th>1</th>\n",
       "      <td>20.0</td>\n",
       "      <td>10000.0</td>\n",
       "      <td>../grid_folder/shocks/20.0_10000.0.csv</td>\n",
       "      <td>0.0</td>\n",
       "      <td>1171.898734</td>\n",
       "      <td>3.325676e-05</td>\n",
       "      <td>4.462530e-05</td>\n",
       "      <td>1.297052e-11</td>\n",
       "    </tr>\n",
       "    <tr>\n",
       "      <th>2</th>\n",
       "      <td>10.0</td>\n",
       "      <td>1000000.0</td>\n",
       "      <td>../grid_folder/shocks/10.0_1000000.0.csv</td>\n",
       "      <td>0.0</td>\n",
       "      <td>11.718987</td>\n",
       "      <td>1.721950e-11</td>\n",
       "      <td>2.341548e-11</td>\n",
       "      <td>3.099042e-11</td>\n",
       "    </tr>\n",
       "    <tr>\n",
       "      <th>3</th>\n",
       "      <td>20.0</td>\n",
       "      <td>1000000.0</td>\n",
       "      <td>../grid_folder/shocks/20.0_1000000.0.csv</td>\n",
       "      <td>0.0</td>\n",
       "      <td>11.718987</td>\n",
       "      <td>3.719279e-11</td>\n",
       "      <td>2.058496e-11</td>\n",
       "      <td>6.478613e-12</td>\n",
       "    </tr>\n",
       "  </tbody>\n",
       "</table>\n",
       "</div>"
      ],
      "text/plain": [
       "   shock_velocity    density                                outputFile  \\\n",
       "0            10.0    10000.0    ../grid_folder/shocks/10.0_10000.0.csv   \n",
       "1            20.0    10000.0    ../grid_folder/shocks/20.0_10000.0.csv   \n",
       "2            10.0  1000000.0  ../grid_folder/shocks/10.0_1000000.0.csv   \n",
       "3            20.0  1000000.0  ../grid_folder/shocks/20.0_1000000.0.csv   \n",
       "\n",
       "   Result  Dissipation Time            CO           H2O         CH3OH  \n",
       "0     0.0       1171.898734  6.166748e-05  2.087114e-05  1.156585e-08  \n",
       "1     0.0       1171.898734  3.325676e-05  4.462530e-05  1.297052e-11  \n",
       "2     0.0         11.718987  1.721950e-11  2.341548e-11  3.099042e-11  \n",
       "3     0.0         11.718987  3.719279e-11  2.058496e-11  6.478613e-12  "
      ]
     },
     "execution_count": 15,
     "metadata": {},
     "output_type": "execute_result"
    }
   ],
   "source": [
    "model_table"
   ]
  },
  {
   "cell_type": "markdown",
   "metadata": {},
   "source": [
    "## Summary\n",
    "\n",
    "There are many ways to run grids of models and users will naturally develop their own methods. This notebook is just a simple example of how to run UCLCHEM for many parameter combinations whilst producing a useful output (the model_table) to keep track of all the combinations that were run. In a real script, we'd save the model file to csv at the end.\n",
    "\n",
    "For much larger grids, it's recommended that you find a way to make your script robust to failure. Over a huge range of parameters, it is quite likely UCLCHEM will hit integration trouble for at least a few parameter combinations. Very occasionally, UCLCHEM will get caught in a loop where it fails to integrate and cannot adjust its strategy to manage it. This isn't a problem for small grids as the model can be stopped and the tolerances adjusted. However, for very large grids, you may end up locking all threads as they each get stuck on a different model. The best solution we've found for this case is to add a check so that models in your dataframe are skipped if their file already exists, this allows you to stop and restart the grid script as needed.\n"
   ]
  }
 ],
 "metadata": {
  "jupytext": {
   "formats": "ipynb,py:light"
  },
  "kernelspec": {
   "display_name": "Python 3",
   "language": "python",
   "name": "python3"
  },
  "language_info": {
   "codemirror_mode": {
    "name": "ipython",
    "version": 3
   },
   "file_extension": ".py",
   "mimetype": "text/x-python",
   "name": "python",
   "nbconvert_exporter": "python",
   "pygments_lexer": "ipython3",
   "version": "3.12.11"
  }
 },
 "nbformat": 4,
 "nbformat_minor": 4
}
