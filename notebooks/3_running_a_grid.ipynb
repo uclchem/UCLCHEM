{
 "cells": [
  {
   "cell_type": "markdown",
   "metadata": {},
   "source": [
    "# Running a Grid\n",
    "\n",
    "A common task is to run UCLCHEM over a grid of parameter combinations. This notebook sets up a simple approach to doing so for regular grids."
   ]
  },
  {
   "cell_type": "code",
   "metadata": {
    "lines_to_next_cell": 2,
    "ExecuteTime": {
     "end_time": "2025-07-30T19:49:04.896301Z",
     "start_time": "2025-07-30T19:49:04.188354Z"
    }
   },
   "source": [
    "import uclchem\n",
    "import numpy as np\n",
    "import pandas as pd\n",
    "import os\n",
    "from joblib import Parallel, delayed"
   ],
   "outputs": [],
   "execution_count": 1
  },
  {
   "cell_type": "markdown",
   "metadata": {},
   "source": [
    "## A Simple Grid\n",
    "### Define Parameter Space\n",
    "First, we define our parameter space. We do this by using numpy and pandas to produce a table of all possible combinations of some parameters of interest."
   ]
  },
  {
   "cell_type": "code",
   "metadata": {
    "ExecuteTime": {
     "end_time": "2025-07-30T19:49:05.190327Z",
     "start_time": "2025-07-30T19:49:05.186070Z"
    }
   },
   "source": [
    "# This part can be substituted with any choice of grid\n",
    "# here we just vary the density, temperature and zeta\n",
    "temperatures = np.linspace(10, 50, 3)\n",
    "densities = np.logspace(4, 6, 3)\n",
    "zetas = np.logspace(1, 3, 3)\n",
    "\n",
    "# meshgrid will give all combinations, then we shape into columns and put into a table\n",
    "parameterSpace = np.asarray(np.meshgrid(temperatures, densities, zetas)).reshape(3, -1)\n",
    "model_table = pd.DataFrame(parameterSpace.T, columns=[\"temperature\", \"density\", \"zeta\"])\n",
    "\n",
    "# keep track of where each model output will be saved and make sure that folder exists\n",
    "model_table[\"outputFile\"] = model_table.apply(\n",
    "    lambda row: f\"../grid_folder/{row.temperature}_{row.density}_{row.zeta}.csv\", axis=1\n",
    ")\n",
    "print(f\"{model_table.shape[0]} models to run\")\n",
    "if not os.path.exists(\"../grid_folder\"):\n",
    "    os.makedirs(\"../grid_folder\")"
   ],
   "outputs": [
    {
     "name": "stdout",
     "output_type": "stream",
     "text": [
      "27 models to run\n"
     ]
    }
   ],
   "execution_count": 2
  },
  {
   "cell_type": "code",
   "metadata": {
    "ExecuteTime": {
     "end_time": "2025-07-30T19:49:07.158250Z",
     "start_time": "2025-07-30T19:49:07.152741Z"
    }
   },
   "source": [
    "model_table.head()"
   ],
   "outputs": [
    {
     "data": {
      "text/plain": [
       "   temperature  density    zeta                              outputFile\n",
       "0         10.0  10000.0    10.0    ../grid_folder/10.0_10000.0_10.0.csv\n",
       "1         10.0  10000.0   100.0   ../grid_folder/10.0_10000.0_100.0.csv\n",
       "2         10.0  10000.0  1000.0  ../grid_folder/10.0_10000.0_1000.0.csv\n",
       "3         30.0  10000.0    10.0    ../grid_folder/30.0_10000.0_10.0.csv\n",
       "4         30.0  10000.0   100.0   ../grid_folder/30.0_10000.0_100.0.csv"
      ],
      "text/html": [
       "<div>\n",
       "<style scoped>\n",
       "    .dataframe tbody tr th:only-of-type {\n",
       "        vertical-align: middle;\n",
       "    }\n",
       "\n",
       "    .dataframe tbody tr th {\n",
       "        vertical-align: top;\n",
       "    }\n",
       "\n",
       "    .dataframe thead th {\n",
       "        text-align: right;\n",
       "    }\n",
       "</style>\n",
       "<table border=\"1\" class=\"dataframe\">\n",
       "  <thead>\n",
       "    <tr style=\"text-align: right;\">\n",
       "      <th></th>\n",
       "      <th>temperature</th>\n",
       "      <th>density</th>\n",
       "      <th>zeta</th>\n",
       "      <th>outputFile</th>\n",
       "    </tr>\n",
       "  </thead>\n",
       "  <tbody>\n",
       "    <tr>\n",
       "      <th>0</th>\n",
       "      <td>10.0</td>\n",
       "      <td>10000.0</td>\n",
       "      <td>10.0</td>\n",
       "      <td>../grid_folder/10.0_10000.0_10.0.csv</td>\n",
       "    </tr>\n",
       "    <tr>\n",
       "      <th>1</th>\n",
       "      <td>10.0</td>\n",
       "      <td>10000.0</td>\n",
       "      <td>100.0</td>\n",
       "      <td>../grid_folder/10.0_10000.0_100.0.csv</td>\n",
       "    </tr>\n",
       "    <tr>\n",
       "      <th>2</th>\n",
       "      <td>10.0</td>\n",
       "      <td>10000.0</td>\n",
       "      <td>1000.0</td>\n",
       "      <td>../grid_folder/10.0_10000.0_1000.0.csv</td>\n",
       "    </tr>\n",
       "    <tr>\n",
       "      <th>3</th>\n",
       "      <td>30.0</td>\n",
       "      <td>10000.0</td>\n",
       "      <td>10.0</td>\n",
       "      <td>../grid_folder/30.0_10000.0_10.0.csv</td>\n",
       "    </tr>\n",
       "    <tr>\n",
       "      <th>4</th>\n",
       "      <td>30.0</td>\n",
       "      <td>10000.0</td>\n",
       "      <td>100.0</td>\n",
       "      <td>../grid_folder/30.0_10000.0_100.0.csv</td>\n",
       "    </tr>\n",
       "  </tbody>\n",
       "</table>\n",
       "</div>"
      ]
     },
     "execution_count": 3,
     "metadata": {},
     "output_type": "execute_result"
    }
   ],
   "execution_count": 3
  },
  {
   "cell_type": "markdown",
   "metadata": {},
   "source": [
    "### Set up the model\n",
    "Next, we need a function that will run our model. We write a quick function that takes a row from our dataframe and uses it to populate a parameter dictionary for UCLCHEM and then run a cloud model. We can then map our dataframe to that function."
   ]
  },
  {
   "cell_type": "code",
   "metadata": {
    "ExecuteTime": {
     "end_time": "2025-07-30T19:49:09.708657Z",
     "start_time": "2025-07-30T19:49:09.706336Z"
    }
   },
   "source": [
    "def run_model(row):\n",
    "    # basic set of parameters we'll use for this grid.\n",
    "    ParameterDictionary = {\n",
    "        \"endatfinaldensity\": False,\n",
    "        \"freefall\": False,\n",
    "        \"initialDens\": row.density,\n",
    "        \"initialTemp\": row.temperature,\n",
    "        \"zeta\": row.zeta,\n",
    "        \"outputFile\": row.outputFile,\n",
    "        \"finalTime\": 1.0e6,\n",
    "        \"baseAv\": 10,\n",
    "        \"abstol_min\": 1e-22,\n",
    "    }\n",
    "    result = uclchem.model.Cloud(param_dict=ParameterDictionary)\n",
    "    return result.success_flag  # just the integer error code"
   ],
   "outputs": [],
   "execution_count": 4
  },
  {
   "cell_type": "markdown",
   "metadata": {},
   "source": [
    "### Run Grid \n",
    "\n",
    "#### The Simple Way\n",
    "We can use pandas apply to simply pass each row to our helper function in turn. This will take some time since we're running the models one by one. I'll use the `head` function just to run five rows as an example here."
   ]
  },
  {
   "cell_type": "code",
   "metadata": {
    "ExecuteTime": {
     "end_time": "2025-07-30T19:49:20.090655Z",
     "start_time": "2025-07-30T19:49:11.746816Z"
    }
   },
   "source": [
    "%%time\n",
    "result = model_table.head().apply(run_model, axis=1)"
   ],
   "outputs": [
    {
     "name": "stdout",
     "output_type": "stream",
     "text": [
      "CPU times: user 8.34 s, sys: 27 ms, total: 8.37 s\n",
      "Wall time: 8.34 s\n"
     ]
    }
   ],
   "execution_count": 5
  },
  {
   "cell_type": "markdown",
   "metadata": {},
   "source": [
    "#### The Fast Way\n",
    "Alternatively, we can use multiprocessing to run the models in parallel. That will allow us to run many models simulataneously and make use of all the cores available on our machine."
   ]
  },
  {
   "cell_type": "code",
   "metadata": {
    "ExecuteTime": {
     "end_time": "2025-07-30T19:53:56.145779Z",
     "start_time": "2025-07-30T19:49:21.282720Z"
    }
   },
   "source": [
    "%%time\n",
    "results = Parallel(n_jobs=4, verbose=100)(\n",
    "    delayed(run_model)(row) for idx, row in model_table.iterrows()\n",
    ")"
   ],
   "outputs": [
    {
     "name": "stdout",
     "output_type": "stream",
     "text": [
      "[Parallel(n_jobs=4)]: Using backend LokyBackend with 4 concurrent workers.\n",
      "[Parallel(n_jobs=4)]: Done   1 tasks      | elapsed:    2.3s\n",
      "[Parallel(n_jobs=4)]: Done   2 tasks      | elapsed:    2.4s\n",
      "[Parallel(n_jobs=4)]: Done   3 tasks      | elapsed:    3.2s\n",
      "[Parallel(n_jobs=4)]: Done   4 tasks      | elapsed:    3.4s\n",
      "[Parallel(n_jobs=4)]: Done   5 tasks      | elapsed:    4.2s\n",
      "[Parallel(n_jobs=4)]: Done   6 tasks      | elapsed:    4.8s\n",
      "[Parallel(n_jobs=4)]: Done   7 tasks      | elapsed:    6.3s\n",
      "[Parallel(n_jobs=4)]: Done   8 tasks      | elapsed:    6.7s\n",
      "[Parallel(n_jobs=4)]: Done   9 tasks      | elapsed:    6.8s\n",
      "[Parallel(n_jobs=4)]: Done  10 tasks      | elapsed:    7.3s\n",
      "[Parallel(n_jobs=4)]: Done  11 tasks      | elapsed:    9.3s\n",
      "[Parallel(n_jobs=4)]: Done  12 tasks      | elapsed:    9.8s\n",
      "[Parallel(n_jobs=4)]: Done  13 tasks      | elapsed:   11.2s\n",
      "[Parallel(n_jobs=4)]: Done  14 tasks      | elapsed:   12.4s\n",
      "[Parallel(n_jobs=4)]: Done  15 tasks      | elapsed:   14.0s\n",
      "[Parallel(n_jobs=4)]: Done  16 tasks      | elapsed:   15.4s\n",
      " At current T(=R1), MXSTEP(=I1) steps                                            \n",
      " taken on this call before reaching TOUT.                                        \n",
      "In the above message, I1 =      10000\n",
      "In the above message, R1 =   0.4544221273170D+13\n",
      " ISTATE -1: Reducing time step to    5619.5530167450024      years\n",
      "[Parallel(n_jobs=4)]: Done  17 tasks      | elapsed:   16.3s\n",
      "[Parallel(n_jobs=4)]: Done  18 tasks      | elapsed:   20.0s\n",
      "[Parallel(n_jobs=4)]: Done  19 tasks      | elapsed:   22.9s\n",
      "[Parallel(n_jobs=4)]: Done  20 tasks      | elapsed:   25.7s\n",
      "[Parallel(n_jobs=4)]: Done  21 out of  27 | elapsed:   27.3s remaining:    7.8s\n",
      "[Parallel(n_jobs=4)]: Done  22 out of  27 | elapsed:   27.8s remaining:    6.3s\n",
      " At current T(=R1), MXSTEP(=I1) steps                                            \n",
      " taken on this call before reaching TOUT.                                        \n",
      "In the above message, I1 =      10000\n",
      "In the above message, R1 =   0.5633042901884D+13\n",
      " ISTATE -1: Reducing time step to    2173.9148998496539      years\n",
      "[Parallel(n_jobs=4)]: Done  23 out of  27 | elapsed:   31.8s remaining:    5.5s\n",
      " At current T(=R1), MXSTEP(=I1) steps                                            \n",
      " taken on this call before reaching TOUT.                                        \n",
      "In the above message, I1 =      10000\n",
      "In the above message, R1 =   0.1568502291730D+14\n",
      " ISTATE -1: Reducing time step to    363.85153295346822      years\n",
      " At current T(=R1), MXSTEP(=I1) steps                                            \n",
      " taken on this call before reaching TOUT.                                        \n",
      "In the above message, I1 =      10000\n",
      "In the above message, R1 =   0.1506459642052D+14\n",
      " ISTATE -1: Reducing time step to    2327.2265520204214      years\n",
      " At current T(=R1), MXSTEP(=I1) steps                                            \n",
      " taken on this call before reaching TOUT.                                        \n",
      "In the above message, I1 =      10000\n",
      "In the above message, R1 =   0.3190889677707D+12\n",
      " ISTATE -1: Reducing time step to    990.22480029129474      years\n",
      " At current T(=R1), MXSTEP(=I1) steps                                            \n",
      " taken on this call before reaching TOUT.                                        \n",
      "In the above message, I1 =      10000\n",
      "In the above message, R1 =   0.1507523431545D+14\n",
      " ISTATE -1: Reducing time step to    2293.5623270432116      years\n",
      " At current T(=R1), MXSTEP(=I1) steps                                            \n",
      " taken on this call before reaching TOUT.                                        \n",
      "In the above message, I1 =      10000\n",
      "In the above message, R1 =   0.1508548025690D+14\n",
      " ISTATE -1: Reducing time step to    2261.1384612122665      years\n",
      " At current T(=R1), MXSTEP(=I1) steps                                            \n",
      " taken on this call before reaching TOUT.                                        \n",
      "In the above message, I1 =      10000\n",
      "In the above message, R1 =   0.1509290450121D+14\n",
      " ISTATE -1: Reducing time step to    2237.6440168694899      years\n",
      "[Parallel(n_jobs=4)]: Done  24 out of  27 | elapsed:   45.0s remaining:    5.6s\n",
      " At current T(=R1), MXSTEP(=I1) steps                                            \n",
      " taken on this call before reaching TOUT.                                        \n",
      "In the above message, I1 =      10000\n",
      "In the above message, R1 =   0.1509540411373D+14\n",
      " ISTATE -1: Reducing time step to    2229.7338505492671      years\n",
      " At current T(=R1), MXSTEP(=I1) steps                                            \n",
      " taken on this call before reaching TOUT.                                        \n",
      "In the above message, I1 =      10000\n",
      "In the above message, R1 =   0.1511835683545D+14\n",
      " ISTATE -1: Reducing time step to    2157.0986541495354      years\n",
      " At current T(=R1), MXSTEP(=I1) steps                                            \n",
      " taken on this call before reaching TOUT.                                        \n",
      "In the above message, I1 =      10000\n",
      "In the above message, R1 =   0.1512291708182D+14\n",
      " ISTATE -1: Reducing time step to    2142.6674945211489      years\n",
      " At current T(=R1), MXSTEP(=I1) steps                                            \n",
      " taken on this call before reaching TOUT.                                        \n",
      "In the above message, I1 =      10000\n",
      "In the above message, R1 =   0.7614627487697D+13\n",
      " ISTATE -1: Reducing time step to    5903.0776585419208      years\n",
      " At current T(=R1), MXSTEP(=I1) steps                                            \n",
      " taken on this call before reaching TOUT.                                        \n",
      "In the above message, I1 =      10000\n",
      "In the above message, R1 =   0.1522207764176D+14\n",
      " ISTATE -1: Reducing time step to    1828.8682495250919      years\n",
      " At current T(=R1), MXSTEP(=I1) steps                                            \n",
      " taken on this call before reaching TOUT.                                        \n",
      "In the above message, I1 =      10000\n",
      "In the above message, R1 =   0.1522386467319D+14\n",
      " ISTATE -1: Reducing time step to    1823.2130867042417      years\n",
      " At current T(=R1), MXSTEP(=I1) steps                                            \n",
      " taken on this call before reaching TOUT.                                        \n",
      "In the above message, I1 =      10000\n",
      "In the above message, R1 =   0.1765386172859D+14\n",
      " ISTATE -1: Reducing time step to    4133.3490217570970      years\n",
      " At current T(=R1), MXSTEP(=I1) steps                                            \n",
      " taken on this call before reaching TOUT.                                        \n",
      "In the above message, I1 =      10000\n",
      "In the above message, R1 =   0.1525181265553D+14\n",
      " ISTATE -1: Reducing time step to    1734.7701032774582      years\n",
      " At current T(=R1), MXSTEP(=I1) steps                                            \n",
      " taken on this call before reaching TOUT.                                        \n",
      "In the above message, I1 =      10000\n",
      "In the above message, R1 =   0.1706647824043D+14\n",
      " ISTATE -1: Reducing time step to    5992.1575562921189      years\n",
      " At current T(=R1), MXSTEP(=I1) steps                                            \n",
      " taken on this call before reaching TOUT.                                        \n",
      "In the above message, I1 =      10000\n",
      "In the above message, R1 =   0.1865854579103D+14\n",
      " ISTATE -1: Reducing time step to    953.96902993315553      years\n",
      " At current T(=R1), MXSTEP(=I1) steps                                            \n",
      " taken on this call before reaching TOUT.                                        \n",
      "In the above message, I1 =      10000\n",
      "In the above message, R1 =   0.1865936876561D+14\n",
      " ISTATE -1: Reducing time step to    951.36467995744101      years\n",
      "[Parallel(n_jobs=4)]: Done  25 out of  27 | elapsed:  1.2min remaining:    5.9s\n",
      " At current T(=R1), MXSTEP(=I1) steps                                            \n",
      " taken on this call before reaching TOUT.                                        \n",
      "In the above message, I1 =      10000\n",
      "In the above message, R1 =   0.1895311426731D+14\n",
      " ISTATE -1: Reducing time step to    21.790293643789379      years\n",
      " At current T(=R1), MXSTEP(=I1) steps                                            \n",
      " taken on this call before reaching TOUT.                                        \n",
      "In the above message, I1 =      10000\n",
      "In the above message, R1 =   0.2026905309488D+14\n",
      " ISTATE -1: Reducing time step to    5857.4270022111987      years\n",
      " At current T(=R1), MXSTEP(=I1) steps                                            \n",
      " taken on this call before reaching TOUT.                                        \n",
      "In the above message, I1 =      10000\n",
      "In the above message, R1 =   0.2134203304222D+14\n",
      " ISTATE -1: Reducing time step to    2461.9207891696306      years\n",
      " At current T(=R1), MXSTEP(=I1) steps                                            \n",
      " taken on this call before reaching TOUT.                                        \n",
      "In the above message, I1 =      10000\n",
      "In the above message, R1 =   0.2210861050905D+14\n",
      " ISTATE -1: Reducing time step to    36.042693429038025      years\n",
      " At current T(=R1), MXSTEP(=I1) steps                                            \n",
      " taken on this call before reaching TOUT.                                        \n",
      "In the above message, I1 =      10000\n",
      "In the above message, R1 =   0.2233321627220D+14\n",
      " ISTATE -1: Reducing time step to    9325.2651003556275      years\n",
      " At current T(=R1), MXSTEP(=I1) steps                                            \n",
      " taken on this call before reaching TOUT.                                        \n",
      "In the above message, I1 =      10000\n",
      "In the above message, R1 =   0.2322634193584D+14\n",
      " ISTATE -1: Reducing time step to    6498.9180213991895      years\n",
      " At current T(=R1), MXSTEP(=I1) steps                                            \n",
      " taken on this call before reaching TOUT.                                        \n",
      "In the above message, I1 =      10000\n",
      "In the above message, R1 =   0.2757290535706D+14\n",
      " ISTATE -1: Reducing time step to    2743.9704299534287      years\n",
      " At current T(=R1), MXSTEP(=I1) steps                                            \n",
      " taken on this call before reaching TOUT.                                        \n",
      "In the above message, I1 =      10000\n",
      "In the above message, R1 =   0.2922456589749D+14\n",
      " ISTATE -1: Reducing time step to    7517.1966389445333      years\n",
      " At current T(=R1), MXSTEP(=I1) steps                                            \n",
      " taken on this call before reaching TOUT.                                        \n",
      "In the above message, I1 =      10000\n",
      "In the above message, R1 =   0.2059619864306D+14\n",
      " ISTATE -1: Reducing time step to    4822.1562647024930      years\n",
      " At current T(=R1), MXSTEP(=I1) steps                                            \n",
      " taken on this call before reaching TOUT.                                        \n",
      "In the above message, I1 =      10000\n",
      "In the above message, R1 =   0.2365218228596D+14\n",
      " ISTATE -1: Reducing time step to    5151.3219566267771      years\n",
      " At current T(=R1), MXSTEP(=I1) steps                                            \n",
      " taken on this call before reaching TOUT.                                        \n",
      "In the above message, I1 =      10000\n",
      "In the above message, R1 =   0.2516722915262D+14\n",
      " ISTATE -1: Reducing time step to    356.86977549563198      years\n",
      " At current T(=R1), MXSTEP(=I1) steps                                            \n",
      " taken on this call before reaching TOUT.                                        \n",
      "In the above message, I1 =      10000\n",
      "In the above message, R1 =   0.2677740478968D+14\n",
      " ISTATE -1: Reducing time step to    5261.3773262439599      years\n",
      " At current T(=R1), MXSTEP(=I1) steps                                            \n",
      " taken on this call before reaching TOUT.                                        \n",
      "In the above message, I1 =      10000\n",
      "In the above message, R1 =   0.2827032107729D+14\n",
      " ISTATE -1: Reducing time step to    536.95862416581440      years\n",
      " At current T(=R1), MXSTEP(=I1) steps                                            \n",
      " taken on this call before reaching TOUT.                                        \n",
      "In the above message, I1 =      10000\n",
      "In the above message, R1 =   0.2991907033134D+14\n",
      " ISTATE -1: Reducing time step to    5319.3977648875079      years\n",
      " At current T(=R1), MXSTEP(=I1) steps                                            \n",
      " taken on this call before reaching TOUT.                                        \n",
      "In the above message, I1 =      10000\n",
      "In the above message, R1 =   0.3139349581667D+14\n",
      " ISTATE -1: Reducing time step to    653.49426076652674      years\n",
      "[Parallel(n_jobs=4)]: Done  27 out of  27 | elapsed:  4.6min finished\n",
      "CPU times: user 620 ms, sys: 307 ms, total: 927 ms\n",
      "Wall time: 4min 34s\n"
     ]
    }
   ],
   "execution_count": 6
  },
  {
   "cell_type": "markdown",
   "metadata": {},
   "source": [
    "## Checking Your Grid\n",
    "After running, we should do two things. First, let's add `results` to our dataframe as a new column. Positive results mean a successful UCLCHEM run and negative ones are unsuccessful. Then we can run each model through `check_element_conservation` to check the integration was successful. We'll use both these things to flag models that failed in some way."
   ]
  },
  {
   "cell_type": "code",
   "metadata": {
    "ExecuteTime": {
     "end_time": "2025-07-30T19:53:56.162858Z",
     "start_time": "2025-07-30T19:53:56.160035Z"
    }
   },
   "source": [
    "def element_check(output_file):\n",
    "    df = uclchem.analysis.read_output_file(output_file)\n",
    "    # get conservation values\n",
    "    conserves = uclchem.analysis.check_element_conservation(df)\n",
    "    # check if any error is greater than 1%\n",
    "    return all([float(x[:-1]) < 1 for x in conserves.values()])"
   ],
   "outputs": [],
   "execution_count": 7
  },
  {
   "cell_type": "code",
   "metadata": {
    "ExecuteTime": {
     "end_time": "2025-07-30T19:53:56.824266Z",
     "start_time": "2025-07-30T19:53:56.208744Z"
    }
   },
   "source": [
    "model_table[\"run_result\"] = results\n",
    "model_table[\"elements_conserved\"] = model_table[\"outputFile\"].map(element_check)\n",
    "# check both conditions are met\n",
    "model_table[\"Successful\"] = (model_table.run_result >= 0) & (\n",
    "    model_table.elements_conserved\n",
    ")"
   ],
   "outputs": [],
   "execution_count": 8
  },
  {
   "cell_type": "code",
   "metadata": {
    "ExecuteTime": {
     "end_time": "2025-07-30T19:54:18.216679Z",
     "start_time": "2025-07-30T19:54:18.212105Z"
    }
   },
   "source": [
    "model_table.head()"
   ],
   "outputs": [
    {
     "data": {
      "text/plain": [
       "   temperature  density    zeta                              outputFile  \\\n",
       "0         10.0  10000.0    10.0    ../grid_folder/10.0_10000.0_10.0.csv   \n",
       "1         10.0  10000.0   100.0   ../grid_folder/10.0_10000.0_100.0.csv   \n",
       "2         10.0  10000.0  1000.0  ../grid_folder/10.0_10000.0_1000.0.csv   \n",
       "3         30.0  10000.0    10.0    ../grid_folder/30.0_10000.0_10.0.csv   \n",
       "4         30.0  10000.0   100.0   ../grid_folder/30.0_10000.0_100.0.csv   \n",
       "\n",
       "   run_result  elements_conserved  Successful  \n",
       "0           0                True        True  \n",
       "1           0                True        True  \n",
       "2           0                True        True  \n",
       "3           0                True        True  \n",
       "4           0                True        True  "
      ],
      "text/html": [
       "<div>\n",
       "<style scoped>\n",
       "    .dataframe tbody tr th:only-of-type {\n",
       "        vertical-align: middle;\n",
       "    }\n",
       "\n",
       "    .dataframe tbody tr th {\n",
       "        vertical-align: top;\n",
       "    }\n",
       "\n",
       "    .dataframe thead th {\n",
       "        text-align: right;\n",
       "    }\n",
       "</style>\n",
       "<table border=\"1\" class=\"dataframe\">\n",
       "  <thead>\n",
       "    <tr style=\"text-align: right;\">\n",
       "      <th></th>\n",
       "      <th>temperature</th>\n",
       "      <th>density</th>\n",
       "      <th>zeta</th>\n",
       "      <th>outputFile</th>\n",
       "      <th>run_result</th>\n",
       "      <th>elements_conserved</th>\n",
       "      <th>Successful</th>\n",
       "    </tr>\n",
       "  </thead>\n",
       "  <tbody>\n",
       "    <tr>\n",
       "      <th>0</th>\n",
       "      <td>10.0</td>\n",
       "      <td>10000.0</td>\n",
       "      <td>10.0</td>\n",
       "      <td>../grid_folder/10.0_10000.0_10.0.csv</td>\n",
       "      <td>0</td>\n",
       "      <td>True</td>\n",
       "      <td>True</td>\n",
       "    </tr>\n",
       "    <tr>\n",
       "      <th>1</th>\n",
       "      <td>10.0</td>\n",
       "      <td>10000.0</td>\n",
       "      <td>100.0</td>\n",
       "      <td>../grid_folder/10.0_10000.0_100.0.csv</td>\n",
       "      <td>0</td>\n",
       "      <td>True</td>\n",
       "      <td>True</td>\n",
       "    </tr>\n",
       "    <tr>\n",
       "      <th>2</th>\n",
       "      <td>10.0</td>\n",
       "      <td>10000.0</td>\n",
       "      <td>1000.0</td>\n",
       "      <td>../grid_folder/10.0_10000.0_1000.0.csv</td>\n",
       "      <td>0</td>\n",
       "      <td>True</td>\n",
       "      <td>True</td>\n",
       "    </tr>\n",
       "    <tr>\n",
       "      <th>3</th>\n",
       "      <td>30.0</td>\n",
       "      <td>10000.0</td>\n",
       "      <td>10.0</td>\n",
       "      <td>../grid_folder/30.0_10000.0_10.0.csv</td>\n",
       "      <td>0</td>\n",
       "      <td>True</td>\n",
       "      <td>True</td>\n",
       "    </tr>\n",
       "    <tr>\n",
       "      <th>4</th>\n",
       "      <td>30.0</td>\n",
       "      <td>10000.0</td>\n",
       "      <td>100.0</td>\n",
       "      <td>../grid_folder/30.0_10000.0_100.0.csv</td>\n",
       "      <td>0</td>\n",
       "      <td>True</td>\n",
       "      <td>True</td>\n",
       "    </tr>\n",
       "  </tbody>\n",
       "</table>\n",
       "</div>"
      ]
     },
     "execution_count": 9,
     "metadata": {},
     "output_type": "execute_result"
    }
   ],
   "execution_count": 9
  },
  {
   "cell_type": "markdown",
   "metadata": {},
   "source": [
    "## Complex Grid\n",
    "\n",
    "The above was straightforward enough but what about a modelling a grid of shocks? Not only do we want to loop over relevant parameters, we also need to run a few preliminary models to give ourselves starting abundances. We'll start by defining two helper functions, one to run our preliminary cloud and one to run the shock.\n",
    "\n",
    "Let's further imagine that we want to obtain the abundances of several species at the end of the model. We can use the `out_species` parameter to specify which species we want to track and return them to our dataframe."
   ]
  },
  {
   "cell_type": "code",
   "metadata": {
    "ExecuteTime": {
     "end_time": "2025-07-30T19:54:21.639134Z",
     "start_time": "2025-07-30T19:54:21.636420Z"
    }
   },
   "source": [
    "out_species = [\"CO\", \"H2O\", \"CH3OH\"]\n",
    "\n",
    "\n",
    "def run_prelim(density):\n",
    "    # basic set of parameters we'll use for this grid.\n",
    "    ParameterDictionary = {\n",
    "        \"endatfinaldensity\": True,\n",
    "        \"freefall\": True,\n",
    "        \"initialDens\": 1e2,\n",
    "        \"finalDens\": float(density),\n",
    "        \"initialTemp\": 10.0,\n",
    "        \"abundSaveFile\": f\"../grid_folder/starts/{density:.0f}.csv\",\n",
    "        \"baseAv\": 1,\n",
    "    }\n",
    "    result = uclchem.model.Cloud(param_dict=ParameterDictionary)\n",
    "    return result.success_flag\n",
    "\n",
    "\n",
    "def run_model(row):\n",
    "    # basic set of parameters we'll use for this grid.\n",
    "    ParameterDictionary = {\n",
    "        \"endatfinaldensity\": False,\n",
    "        \"freefall\": False,\n",
    "        \"initialDens\": float(row.density),\n",
    "        \"initialTemp\": 10.0,\n",
    "        \"outputFile\": row.outputFile,\n",
    "        \"abundLoadFile\": f\"../grid_folder/starts/{row.density:.0f}.csv\",\n",
    "        \"finalTime\": 1.0e5,\n",
    "        \"abstol_factor\": 1e-14,\n",
    "        \"abstol_min\": 1e-20,\n",
    "        \"reltol\": 1e-6,\n",
    "        \"baseAv\": 1,\n",
    "    }\n",
    "    result = uclchem.model.CShock(\n",
    "        row.shock_velocity, param_dict=ParameterDictionary, out_species=out_species\n",
    "    )\n",
    "    # First check UCLCHEM's result flag to seeif it ran succesfully, if it is return the abundances\n",
    "    if result.success_flag == 0:\n",
    "        return result.success_flag, result.dissipation_time, result.chemical_abun_array\n",
    "    # if not, return NaNs because model failed\n",
    "    else:\n",
    "        return [np.nan] * len(out_species)"
   ],
   "outputs": [],
   "execution_count": 10
  },
  {
   "cell_type": "markdown",
   "metadata": {},
   "source": [
    "Then we define our parameter space again. We'll create two folders, one to store a set of initial abundances for each starting density in our model and another to store our shock outputs."
   ]
  },
  {
   "cell_type": "code",
   "metadata": {
    "ExecuteTime": {
     "end_time": "2025-07-30T19:54:25.259919Z",
     "start_time": "2025-07-30T19:54:25.254582Z"
    }
   },
   "source": [
    "# This part can be substituted with any choice of grid\n",
    "# here we just combine various initial and final densities into an easily iterable array\n",
    "shock_velocities = np.linspace(10, 50, 3)\n",
    "densities = np.logspace(4, 6, 3)\n",
    "\n",
    "parameterSpace = np.asarray(np.meshgrid(shock_velocities, densities)).reshape(2, -1)\n",
    "model_table = pd.DataFrame(parameterSpace.T, columns=[\"shock_velocity\", \"density\"])\n",
    "model_table[\"outputFile\"] = model_table.apply(\n",
    "    lambda row: f\"../grid_folder/shocks/{row.shock_velocity}_{row.density}.csv\", axis=1\n",
    ")\n",
    "print(f\"{model_table.shape[0]} models to run\")\n",
    "\n",
    "for folder in [\"starts\", \"shocks\"]:\n",
    "    if not os.path.exists(f\"../grid_folder/{folder}\"):\n",
    "        os.makedirs(f\"../grid_folder/{folder}\")"
   ],
   "outputs": [
    {
     "name": "stdout",
     "output_type": "stream",
     "text": [
      "9 models to run\n"
     ]
    }
   ],
   "execution_count": 11
  },
  {
   "cell_type": "markdown",
   "metadata": {},
   "source": [
    "We can then run our preliminary models followed by our science models. The science models will return the abundances at the final time step of each run so we can unpack those directly to our dataframe."
   ]
  },
  {
   "cell_type": "code",
   "metadata": {
    "ExecuteTime": {
     "end_time": "2025-07-30T19:54:32.653210Z",
     "start_time": "2025-07-30T19:54:28.463073Z"
    }
   },
   "source": [
    "results = Parallel(n_jobs=4, verbose=100)(\n",
    "    delayed(run_prelim)(dens) for dens in densities\n",
    ")"
   ],
   "outputs": [
    {
     "name": "stdout",
     "output_type": "stream",
     "text": [
      "[Parallel(n_jobs=4)]: Using backend LokyBackend with 4 concurrent workers.\n",
      "[Parallel(n_jobs=4)]: Done   1 tasks      | elapsed:    3.4s\n",
      "[Parallel(n_jobs=4)]: Done   3 out of   3 | elapsed:    4.2s finished\n"
     ]
    }
   ],
   "execution_count": 12
  },
  {
   "cell_type": "code",
   "metadata": {
    "jupyter": {
     "is_executing": true
    },
    "ExecuteTime": {
     "start_time": "2025-07-30T19:54:34.503312Z"
    }
   },
   "source": [
    "results = Parallel(n_jobs=4, verbose=100)(\n",
    "    delayed(run_model)(row) for idx, row in model_table.iterrows()\n",
    ")"
   ],
   "outputs": [
    {
     "name": "stdout",
     "output_type": "stream",
     "text": [
      "[Parallel(n_jobs=4)]: Using backend LokyBackend with 4 concurrent workers.\n",
      " At current T(=R1), MXSTEP(=I1) steps                                            \n",
      " taken on this call before reaching TOUT.                                        \n",
      "In the above message, I1 =      10000\n",
      "In the above message, R1 =   0.5369341152504D+09\n",
      " ISTATE -1: Reducing time step to    5.8689509575692758E-002 years\n",
      "[Parallel(n_jobs=4)]: Done   1 tasks      | elapsed:    8.1s\n",
      "[Parallel(n_jobs=4)]: Done   2 tasks      | elapsed:    8.3s\n",
      "[Parallel(n_jobs=4)]: Done   3 out of   9 | elapsed:   13.2s remaining:   26.5s\n",
      " At T(=R1) and step size H(=R2), the                                             \n",
      " corrector convergence failed repeatedly                                         \n",
      " or with ABS(H) = HMIN.                                                          \n",
      "In the above message, R1 =   0.1341010698693D+13   R2 =   0.3314263159790D+04\n",
      " ISTATE -5 - shortening step at time   40484.767492356004      years\n",
      " At T(=R1) and step size H(=R2), the                                             \n",
      " corrector convergence failed repeatedly                                         \n",
      " or with ABS(H) = HMIN.                                                          \n",
      "In the above message, R1 =   0.1411353765778D+13   R2 =   0.3624337173034D-06\n",
      " ISTATE -5 - shortening step at time   44533.245206823682      years\n",
      " At T(=R1) and step size H(=R2), the                                             \n",
      " corrector convergence failed repeatedly                                         \n",
      " or with ABS(H) = HMIN.                                                          \n",
      "In the above message, R1 =   0.1413767389330D+13   R2 =   0.2174278791895D-04\n",
      " ISTATE -5 - shortening step at time   44533.245206823682      years\n",
      " At T(=R1) and step size H(=R2), the                                             \n",
      " corrector convergence failed repeatedly                                         \n",
      " or with ABS(H) = HMIN.                                                          \n",
      "In the above message, R1 =   0.1413815538517D+13   R2 =   0.2745042716137D-05\n",
      " ISTATE -5 - shortening step at time   44533.245206823682      years\n",
      " At T(=R1) and step size H(=R2), the                                             \n",
      " corrector convergence failed repeatedly                                         \n",
      " or with ABS(H) = HMIN.                                                          \n",
      "In the above message, R1 =   0.1413933310724D+13   R2 =   0.5336235235310D+03\n",
      " ISTATE -5 - shortening step at time   44533.245206823682      years\n",
      " At T(=R1) and step size H(=R2), the                                             \n",
      " corrector convergence failed repeatedly                                         \n",
      " or with ABS(H) = HMIN.                                                          \n",
      "In the above message, R1 =   0.1421670784576D+13   R2 =   0.1602691227883D+04\n",
      " ISTATE -5 - shortening step at time   44533.245206823682      years\n",
      " At T(=R1) and step size H(=R2), the                                             \n",
      " corrector convergence failed repeatedly                                         \n",
      " or with ABS(H) = HMIN.                                                          \n",
      "In the above message, R1 =   0.1421698549430D+13   R2 =   0.1513500794955D-04\n",
      " ISTATE -5 - shortening step at time   44533.245206823682      years\n",
      " At T(=R1) and step size H(=R2), the                                             \n",
      " corrector convergence failed repeatedly                                         \n",
      " or with ABS(H) = HMIN.                                                          \n",
      "In the above message, R1 =   0.1474519662663D+13   R2 =   0.2093643579799D-07\n",
      " ISTATE -5 - shortening step at time   44533.245206823682      years\n",
      " At T(=R1) and step size H(=R2), the                                             \n",
      " corrector convergence failed repeatedly                                         \n",
      " or with ABS(H) = HMIN.                                                          \n",
      "In the above message, R1 =   0.1477446051831D+13   R2 =   0.1918652223227D+04\n",
      " ISTATE -5 - shortening step at time   44533.245206823682      years\n",
      " At T(=R1) and step size H(=R2), the                                             \n",
      " corrector convergence failed repeatedly                                         \n",
      " or with ABS(H) = HMIN.                                                          \n",
      "In the above message, R1 =   0.1480001879480D+13   R2 =   0.2238023182894D+04\n",
      " ISTATE -5 - shortening step at time   44533.245206823682      years\n",
      " At T(=R1) and step size H(=R2), the                                             \n",
      " corrector convergence failed repeatedly                                         \n",
      " or with ABS(H) = HMIN.                                                          \n",
      "In the above message, R1 =   0.1480018207191D+13   R2 =   0.3041030022362D+03\n",
      " ISTATE -5 - shortening step at time   44533.245206823682      years\n",
      " At T(=R1) and step size H(=R2), the                                             \n",
      " corrector convergence failed repeatedly                                         \n",
      " or with ABS(H) = HMIN.                                                          \n",
      "In the above message, R1 =   0.1482868033797D+13   R2 =   0.4930283187790D+03\n",
      " ISTATE -5 - shortening step at time   46836.019214903376      years\n",
      " At T(=R1) and step size H(=R2), the                                             \n",
      " corrector convergence failed repeatedly                                         \n",
      " or with ABS(H) = HMIN.                                                          \n",
      "In the above message, R1 =   0.1483053846160D+13   R2 =   0.5297039451087D+03\n",
      " ISTATE -5 - shortening step at time   46836.019214903376      years\n",
      " At T(=R1) and step size H(=R2), the                                             \n",
      " corrector convergence failed repeatedly                                         \n",
      " or with ABS(H) = HMIN.                                                          \n",
      "In the above message, R1 =   0.1483077270205D+13   R2 =   0.3780282740248D+03\n",
      " ISTATE -5 - shortening step at time   46836.019214903376      years\n"
     ]
    }
   ],
   "execution_count": null
  },
  {
   "cell_type": "code",
   "execution_count": 18,
   "metadata": {},
   "outputs": [],
   "source": [
    "model_table[[\"Result\", \"Dissipation Time\"] + out_species] = results"
   ]
  },
  {
   "cell_type": "code",
   "execution_count": 19,
   "metadata": {},
   "outputs": [
    {
     "data": {
      "text/html": [
       "<div>\n",
       "<style scoped>\n",
       "    .dataframe tbody tr th:only-of-type {\n",
       "        vertical-align: middle;\n",
       "    }\n",
       "\n",
       "    .dataframe tbody tr th {\n",
       "        vertical-align: top;\n",
       "    }\n",
       "\n",
       "    .dataframe thead th {\n",
       "        text-align: right;\n",
       "    }\n",
       "</style>\n",
       "<table border=\"1\" class=\"dataframe\">\n",
       "  <thead>\n",
       "    <tr style=\"text-align: right;\">\n",
       "      <th></th>\n",
       "      <th>shock_velocity</th>\n",
       "      <th>density</th>\n",
       "      <th>outputFile</th>\n",
       "      <th>Result</th>\n",
       "      <th>Dissipation Time</th>\n",
       "      <th>CO</th>\n",
       "      <th>H2O</th>\n",
       "      <th>CH3OH</th>\n",
       "    </tr>\n",
       "  </thead>\n",
       "  <tbody>\n",
       "    <tr>\n",
       "      <th>0</th>\n",
       "      <td>10.0</td>\n",
       "      <td>10000.0</td>\n",
       "      <td>../grid_folder/shocks/10.0_10000.0.csv</td>\n",
       "      <td>0.0</td>\n",
       "      <td>1171.898734</td>\n",
       "      <td>5.973692e-05</td>\n",
       "      <td>2.390674e-05</td>\n",
       "      <td>2.573049e-11</td>\n",
       "    </tr>\n",
       "    <tr>\n",
       "      <th>1</th>\n",
       "      <td>30.0</td>\n",
       "      <td>10000.0</td>\n",
       "      <td>../grid_folder/shocks/30.0_10000.0.csv</td>\n",
       "      <td>0.0</td>\n",
       "      <td>1171.898734</td>\n",
       "      <td>2.502361e-05</td>\n",
       "      <td>2.420695e-05</td>\n",
       "      <td>9.976796e-07</td>\n",
       "    </tr>\n",
       "    <tr>\n",
       "      <th>2</th>\n",
       "      <td>50.0</td>\n",
       "      <td>10000.0</td>\n",
       "      <td>../grid_folder/shocks/50.0_10000.0.csv</td>\n",
       "      <td>0.0</td>\n",
       "      <td>1171.898734</td>\n",
       "      <td>1.339461e-05</td>\n",
       "      <td>1.069392e-05</td>\n",
       "      <td>5.981371e-07</td>\n",
       "    </tr>\n",
       "    <tr>\n",
       "      <th>3</th>\n",
       "      <td>10.0</td>\n",
       "      <td>100000.0</td>\n",
       "      <td>../grid_folder/shocks/10.0_100000.0.csv</td>\n",
       "      <td>0.0</td>\n",
       "      <td>117.189873</td>\n",
       "      <td>1.233292e-07</td>\n",
       "      <td>1.140102e-09</td>\n",
       "      <td>1.453093e-11</td>\n",
       "    </tr>\n",
       "    <tr>\n",
       "      <th>4</th>\n",
       "      <td>30.0</td>\n",
       "      <td>100000.0</td>\n",
       "      <td>../grid_folder/shocks/30.0_100000.0.csv</td>\n",
       "      <td>0.0</td>\n",
       "      <td>117.189873</td>\n",
       "      <td>1.146282e-22</td>\n",
       "      <td>1.279723e-20</td>\n",
       "      <td>1.181856e-20</td>\n",
       "    </tr>\n",
       "    <tr>\n",
       "      <th>5</th>\n",
       "      <td>50.0</td>\n",
       "      <td>100000.0</td>\n",
       "      <td>../grid_folder/shocks/50.0_100000.0.csv</td>\n",
       "      <td>0.0</td>\n",
       "      <td>117.189873</td>\n",
       "      <td>1.252981e-23</td>\n",
       "      <td>1.076729e-21</td>\n",
       "      <td>1.259819e-21</td>\n",
       "    </tr>\n",
       "    <tr>\n",
       "      <th>6</th>\n",
       "      <td>10.0</td>\n",
       "      <td>1000000.0</td>\n",
       "      <td>../grid_folder/shocks/10.0_1000000.0.csv</td>\n",
       "      <td>0.0</td>\n",
       "      <td>11.718987</td>\n",
       "      <td>3.743088e-27</td>\n",
       "      <td>6.926607e-23</td>\n",
       "      <td>1.151194e-22</td>\n",
       "    </tr>\n",
       "    <tr>\n",
       "      <th>7</th>\n",
       "      <td>30.0</td>\n",
       "      <td>1000000.0</td>\n",
       "      <td>../grid_folder/shocks/30.0_1000000.0.csv</td>\n",
       "      <td>0.0</td>\n",
       "      <td>11.718987</td>\n",
       "      <td>2.389471e-29</td>\n",
       "      <td>1.420828e-23</td>\n",
       "      <td>1.372137e-23</td>\n",
       "    </tr>\n",
       "    <tr>\n",
       "      <th>8</th>\n",
       "      <td>50.0</td>\n",
       "      <td>1000000.0</td>\n",
       "      <td>../grid_folder/shocks/50.0_1000000.0.csv</td>\n",
       "      <td>0.0</td>\n",
       "      <td>11.718987</td>\n",
       "      <td>4.851176e-29</td>\n",
       "      <td>2.837123e-23</td>\n",
       "      <td>3.136032e-23</td>\n",
       "    </tr>\n",
       "  </tbody>\n",
       "</table>\n",
       "</div>"
      ],
      "text/plain": [
       "   shock_velocity    density                                outputFile  \\\n",
       "0            10.0    10000.0    ../grid_folder/shocks/10.0_10000.0.csv   \n",
       "1            30.0    10000.0    ../grid_folder/shocks/30.0_10000.0.csv   \n",
       "2            50.0    10000.0    ../grid_folder/shocks/50.0_10000.0.csv   \n",
       "3            10.0   100000.0   ../grid_folder/shocks/10.0_100000.0.csv   \n",
       "4            30.0   100000.0   ../grid_folder/shocks/30.0_100000.0.csv   \n",
       "5            50.0   100000.0   ../grid_folder/shocks/50.0_100000.0.csv   \n",
       "6            10.0  1000000.0  ../grid_folder/shocks/10.0_1000000.0.csv   \n",
       "7            30.0  1000000.0  ../grid_folder/shocks/30.0_1000000.0.csv   \n",
       "8            50.0  1000000.0  ../grid_folder/shocks/50.0_1000000.0.csv   \n",
       "\n",
       "   Result  Dissipation Time            CO           H2O         CH3OH  \n",
       "0     0.0       1171.898734  5.973692e-05  2.390674e-05  2.573049e-11  \n",
       "1     0.0       1171.898734  2.502361e-05  2.420695e-05  9.976796e-07  \n",
       "2     0.0       1171.898734  1.339461e-05  1.069392e-05  5.981371e-07  \n",
       "3     0.0        117.189873  1.233292e-07  1.140102e-09  1.453093e-11  \n",
       "4     0.0        117.189873  1.146282e-22  1.279723e-20  1.181856e-20  \n",
       "5     0.0        117.189873  1.252981e-23  1.076729e-21  1.259819e-21  \n",
       "6     0.0         11.718987  3.743088e-27  6.926607e-23  1.151194e-22  \n",
       "7     0.0         11.718987  2.389471e-29  1.420828e-23  1.372137e-23  \n",
       "8     0.0         11.718987  4.851176e-29  2.837123e-23  3.136032e-23  "
      ]
     },
     "execution_count": 19,
     "metadata": {},
     "output_type": "execute_result"
    }
   ],
   "source": [
    "model_table"
   ]
  },
  {
   "cell_type": "markdown",
   "metadata": {},
   "source": [
    "## Summary\n",
    "\n",
    "There are many ways to run grids of models and users will naturally develop their own methods. This notebook is just a simple example of how to run UCLCHEM for many parameter combinations whilst producing a useful output (the model_table) to keep track of all the combinations that were run. In a real script, we'd save the model file to csv at the end.\n",
    "\n",
    "For much larger grids, it's recommended that you find a way to make your script robust to failure. Over a huge range of parameters, it is quite likely UCLCHEM will hit integration trouble for at least a few parameter combinations. Very occasionally, UCLCHEM will get caught in a loop where it fails to integrate and cannot adjust its strategy to manage it. This isn't a problem for small grids as the model can be stopped and the tolerances adjusted. However, for very large grids, you may end up locking all threads as they each get stuck on a different model. The best solution we've found for this case is to add a check so that models in your dataframe are skipped if their file already exists, this allows you to stop and restart the grid script as needed.\n"
   ]
  },
  {
   "cell_type": "markdown",
   "metadata": {},
   "source": []
  }
 ],
 "metadata": {
  "jupytext": {
   "formats": "ipynb,py:light"
  },
  "kernelspec": {
   "display_name": "Python 3",
   "language": "python",
   "name": "python3"
  },
  "language_info": {
   "codemirror_mode": {
    "name": "ipython",
    "version": 3
   },
   "file_extension": ".py",
   "mimetype": "text/x-python",
   "name": "python",
   "nbconvert_exporter": "python",
   "pygments_lexer": "ipython3",
   "version": "3.12.11"
  }
 },
 "nbformat": 4,
 "nbformat_minor": 4
}
