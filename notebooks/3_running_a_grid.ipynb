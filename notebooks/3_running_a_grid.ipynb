{
 "cells": [
  {
   "cell_type": "markdown",
   "metadata": {},
   "source": [
    "# Running a Grid\n",
    "\n",
    "A common task is to run UCLCHEM over a grid of parameter combinations. This notebook sets up a simple approach to doing so for regular grids."
   ]
  },
  {
   "cell_type": "code",
   "metadata": {
    "lines_to_next_cell": 2,
    "ExecuteTime": {
     "end_time": "2025-07-31T10:16:23.881319Z",
     "start_time": "2025-07-31T10:16:23.258771Z"
    }
   },
   "source": [
    "import uclchem\n",
    "import numpy as np\n",
    "import pandas as pd\n",
    "import os\n",
    "from joblib import Parallel, delayed"
   ],
   "outputs": [],
   "execution_count": 1
  },
  {
   "cell_type": "markdown",
   "metadata": {},
   "source": [
    "## A Simple Grid\n",
    "### Define Parameter Space\n",
    "First, we define our parameter space. We do this by using numpy and pandas to produce a table of all possible combinations of some parameters of interest."
   ]
  },
  {
   "metadata": {
    "ExecuteTime": {
     "end_time": "2025-07-31T10:16:24.309715Z",
     "start_time": "2025-07-31T10:16:24.305693Z"
    }
   },
   "cell_type": "code",
   "source": [
    "# This part can be substituted with any choice of grid\n",
    "# here we just vary the density, temperature and zeta\n",
    "temperatures = np.linspace(10, 50, 2)\n",
    "densities = np.logspace(4, 6, 2)\n",
    "zetas = np.logspace(1, 3, 2)\n",
    "\n",
    "# meshgrid will give all combinations, then we shape into columns and put into a table\n",
    "parameterSpace = np.asarray(np.meshgrid(temperatures, densities, zetas)).reshape(3, -1)\n",
    "model_table = pd.DataFrame(parameterSpace.T, columns=[\"temperature\", \"density\", \"zeta\"])\n",
    "\n",
    "# keep track of where each model output will be saved and make sure that folder exists\n",
    "model_table[\"outputFile\"] = model_table.apply(\n",
    "    lambda row: f\"../grid_folder/{row.temperature}_{row.density}_{row.zeta}.csv\", axis=1\n",
    ")\n",
    "print(f\"{model_table.shape[0]} models to run\")\n",
    "if not os.path.exists(\"../grid_folder\"):\n",
    "    os.makedirs(\"../grid_folder\")"
   ],
   "outputs": [
    {
     "name": "stdout",
     "output_type": "stream",
     "text": [
      "8 models to run\n"
     ]
    }
   ],
   "execution_count": 2
  },
  {
   "metadata": {
    "ExecuteTime": {
     "end_time": "2025-07-31T10:16:25.282056Z",
     "start_time": "2025-07-31T10:16:25.276340Z"
    }
   },
   "cell_type": "code",
   "source": "model_table.head()",
   "outputs": [
    {
     "data": {
      "text/plain": [
       "   temperature    density    zeta                              outputFile\n",
       "0         10.0    10000.0    10.0    ../grid_folder/10.0_10000.0_10.0.csv\n",
       "1         10.0    10000.0  1000.0  ../grid_folder/10.0_10000.0_1000.0.csv\n",
       "2         50.0    10000.0    10.0    ../grid_folder/50.0_10000.0_10.0.csv\n",
       "3         50.0    10000.0  1000.0  ../grid_folder/50.0_10000.0_1000.0.csv\n",
       "4         10.0  1000000.0    10.0  ../grid_folder/10.0_1000000.0_10.0.csv"
      ],
      "text/html": [
       "<div>\n",
       "<style scoped>\n",
       "    .dataframe tbody tr th:only-of-type {\n",
       "        vertical-align: middle;\n",
       "    }\n",
       "\n",
       "    .dataframe tbody tr th {\n",
       "        vertical-align: top;\n",
       "    }\n",
       "\n",
       "    .dataframe thead th {\n",
       "        text-align: right;\n",
       "    }\n",
       "</style>\n",
       "<table border=\"1\" class=\"dataframe\">\n",
       "  <thead>\n",
       "    <tr style=\"text-align: right;\">\n",
       "      <th></th>\n",
       "      <th>temperature</th>\n",
       "      <th>density</th>\n",
       "      <th>zeta</th>\n",
       "      <th>outputFile</th>\n",
       "    </tr>\n",
       "  </thead>\n",
       "  <tbody>\n",
       "    <tr>\n",
       "      <th>0</th>\n",
       "      <td>10.0</td>\n",
       "      <td>10000.0</td>\n",
       "      <td>10.0</td>\n",
       "      <td>../grid_folder/10.0_10000.0_10.0.csv</td>\n",
       "    </tr>\n",
       "    <tr>\n",
       "      <th>1</th>\n",
       "      <td>10.0</td>\n",
       "      <td>10000.0</td>\n",
       "      <td>1000.0</td>\n",
       "      <td>../grid_folder/10.0_10000.0_1000.0.csv</td>\n",
       "    </tr>\n",
       "    <tr>\n",
       "      <th>2</th>\n",
       "      <td>50.0</td>\n",
       "      <td>10000.0</td>\n",
       "      <td>10.0</td>\n",
       "      <td>../grid_folder/50.0_10000.0_10.0.csv</td>\n",
       "    </tr>\n",
       "    <tr>\n",
       "      <th>3</th>\n",
       "      <td>50.0</td>\n",
       "      <td>10000.0</td>\n",
       "      <td>1000.0</td>\n",
       "      <td>../grid_folder/50.0_10000.0_1000.0.csv</td>\n",
       "    </tr>\n",
       "    <tr>\n",
       "      <th>4</th>\n",
       "      <td>10.0</td>\n",
       "      <td>1000000.0</td>\n",
       "      <td>10.0</td>\n",
       "      <td>../grid_folder/10.0_1000000.0_10.0.csv</td>\n",
       "    </tr>\n",
       "  </tbody>\n",
       "</table>\n",
       "</div>"
      ]
     },
     "execution_count": 3,
     "metadata": {},
     "output_type": "execute_result"
    }
   ],
   "execution_count": 3
  },
  {
   "cell_type": "markdown",
   "metadata": {},
   "source": [
    "### Set up the model\n",
    "Next, we need a function that will run our model. We write a quick function that takes a row from our dataframe and uses it to populate a parameter dictionary for UCLCHEM and then run a cloud model. We can then map our dataframe to that function."
   ]
  },
  {
   "metadata": {
    "ExecuteTime": {
     "end_time": "2025-07-31T10:16:25.902440Z",
     "start_time": "2025-07-31T10:16:25.900322Z"
    }
   },
   "cell_type": "code",
   "source": [
    "def run_model(row):\n",
    "    # basic set of parameters we'll use for this grid.\n",
    "    ParameterDictionary = {\n",
    "        \"endatfinaldensity\": False,\n",
    "        \"freefall\": False,\n",
    "        \"initialDens\": row.density,\n",
    "        \"initialTemp\": row.temperature,\n",
    "        \"zeta\": row.zeta,\n",
    "        \"outputFile\": row.outputFile,\n",
    "        \"finalTime\": 1.0e6,\n",
    "        \"baseAv\": 10,\n",
    "        \"abstol_min\": 1e-22,\n",
    "    }\n",
    "    result = uclchem.model.functional.cloud(param_dict=ParameterDictionary)\n",
    "    return result[0]  # just the integer error code"
   ],
   "outputs": [],
   "execution_count": 4
  },
  {
   "cell_type": "markdown",
   "metadata": {},
   "source": [
    "### Run Grid \n",
    "\n",
    "#### The Simple Way\n",
    "We can use pandas apply to simply pass each row to our helper function in turn. This will take some time since we're running the models one by one. I'll use the `head` function just to run five rows as an example here."
   ]
  },
  {
   "cell_type": "code",
   "metadata": {
    "ExecuteTime": {
     "end_time": "2025-07-31T10:20:43.843112Z",
     "start_time": "2025-07-31T10:16:27.014785Z"
    }
   },
   "source": [
    "%%time\n",
    "result = model_table.head().apply(run_model, axis=1)"
   ],
   "outputs": [
    {
     "name": "stdout",
     "output_type": "stream",
     "text": [
      " At current T(=R1), MXSTEP(=I1) steps                                            \n",
      " taken on this call before reaching TOUT.                                        \n",
      "In the above message, I1 =      10000\n",
      "In the above message, R1 =   0.1568502291730D+14\n",
      " ISTATE -1: Reducing time step to    363.85153295346822      years\n",
      " At current T(=R1), MXSTEP(=I1) steps                                            \n",
      " taken on this call before reaching TOUT.                                        \n",
      "In the above message, I1 =      10000\n",
      "In the above message, R1 =   0.1765386172859D+14\n",
      " ISTATE -1: Reducing time step to    4133.3490217570970      years\n",
      " At current T(=R1), MXSTEP(=I1) steps                                            \n",
      " taken on this call before reaching TOUT.                                        \n",
      "In the above message, I1 =      10000\n",
      "In the above message, R1 =   0.2059619864306D+14\n",
      " ISTATE -1: Reducing time step to    4822.1562647024930      years\n",
      " At current T(=R1), MXSTEP(=I1) steps                                            \n",
      " taken on this call before reaching TOUT.                                        \n",
      "In the above message, I1 =      10000\n",
      "In the above message, R1 =   0.2365218228596D+14\n",
      " ISTATE -1: Reducing time step to    5151.3219566267771      years\n",
      " At current T(=R1), MXSTEP(=I1) steps                                            \n",
      " taken on this call before reaching TOUT.                                        \n",
      "In the above message, I1 =      10000\n",
      "In the above message, R1 =   0.2516722915262D+14\n",
      " ISTATE -1: Reducing time step to    356.86977549563198      years\n",
      " At current T(=R1), MXSTEP(=I1) steps                                            \n",
      " taken on this call before reaching TOUT.                                        \n",
      "In the above message, I1 =      10000\n",
      "In the above message, R1 =   0.2677740478968D+14\n",
      " ISTATE -1: Reducing time step to    5261.3773262439599      years\n",
      " At current T(=R1), MXSTEP(=I1) steps                                            \n",
      " taken on this call before reaching TOUT.                                        \n",
      "In the above message, I1 =      10000\n",
      "In the above message, R1 =   0.2827032107729D+14\n",
      " ISTATE -1: Reducing time step to    536.95862416581440      years\n",
      " At current T(=R1), MXSTEP(=I1) steps                                            \n",
      " taken on this call before reaching TOUT.                                        \n",
      "In the above message, I1 =      10000\n",
      "In the above message, R1 =   0.2991907033134D+14\n",
      " ISTATE -1: Reducing time step to    5319.3977648875079      years\n",
      " At current T(=R1), MXSTEP(=I1) steps                                            \n",
      " taken on this call before reaching TOUT.                                        \n",
      "In the above message, I1 =      10000\n",
      "In the above message, R1 =   0.3139349581667D+14\n",
      " ISTATE -1: Reducing time step to    653.49426076652674      years\n",
      "CPU times: user 4min 17s, sys: 1.08 s, total: 4min 18s\n",
      "Wall time: 4min 16s\n"
     ]
    }
   ],
   "execution_count": 5
  },
  {
   "cell_type": "markdown",
   "metadata": {},
   "source": [
    "#### The Fast Way\n",
    "Alternatively, we can use multiprocessing to run the models in parallel. That will allow us to run many models simulataneously and make use of all the cores available on our machine."
   ]
  },
  {
   "metadata": {
    "ExecuteTime": {
     "end_time": "2025-07-31T10:24:46.805116Z",
     "start_time": "2025-07-31T10:20:43.911876Z"
    }
   },
   "cell_type": "code",
   "source": [
    "%%time\n",
    "results = Parallel(n_jobs=8, verbose=100)(\n",
    "    delayed(run_model)(row) for idx, row in model_table.iterrows()\n",
    ")"
   ],
   "outputs": [
    {
     "name": "stdout",
     "output_type": "stream",
     "text": [
      "[Parallel(n_jobs=8)]: Using backend LokyBackend with 8 concurrent workers.\n",
      "[Parallel(n_jobs=8)]: Done   1 tasks      | elapsed:    2.3s\n",
      "[Parallel(n_jobs=8)]: Done   2 out of   8 | elapsed:    2.9s remaining:    8.7s\n",
      "[Parallel(n_jobs=8)]: Done   3 out of   8 | elapsed:    3.4s remaining:    5.7s\n",
      "[Parallel(n_jobs=8)]: Done   4 out of   8 | elapsed:    4.2s remaining:    4.2s\n",
      "[Parallel(n_jobs=8)]: Done   5 out of   8 | elapsed:    4.5s remaining:    2.7s\n",
      "[Parallel(n_jobs=8)]: Done   6 out of   8 | elapsed:    5.2s remaining:    1.7s\n",
      " At current T(=R1), MXSTEP(=I1) steps                                            \n",
      " taken on this call before reaching TOUT.                                        \n",
      "In the above message, I1 =      10000\n",
      "In the above message, R1 =   0.3190889677707D+12\n",
      " ISTATE -1: Reducing time step to    990.22480029129474      years\n",
      " At current T(=R1), MXSTEP(=I1) steps                                            \n",
      " taken on this call before reaching TOUT.                                        \n",
      "In the above message, I1 =      10000\n",
      "In the above message, R1 =   0.1568502291730D+14\n",
      " ISTATE -1: Reducing time step to    363.85153295346822      years\n",
      " At current T(=R1), MXSTEP(=I1) steps                                            \n",
      " taken on this call before reaching TOUT.                                        \n",
      "In the above message, I1 =      10000\n",
      "In the above message, R1 =   0.1765386172859D+14\n",
      " ISTATE -1: Reducing time step to    4133.3490217570970      years\n",
      " At current T(=R1), MXSTEP(=I1) steps                                            \n",
      " taken on this call before reaching TOUT.                                        \n",
      "In the above message, I1 =      10000\n",
      "In the above message, R1 =   0.2059619864306D+14\n",
      " ISTATE -1: Reducing time step to    4822.1562647024930      years\n",
      " At current T(=R1), MXSTEP(=I1) steps                                            \n",
      " taken on this call before reaching TOUT.                                        \n",
      "In the above message, I1 =      10000\n",
      "In the above message, R1 =   0.2365218228596D+14\n",
      " ISTATE -1: Reducing time step to    5151.3219566267771      years\n",
      " At current T(=R1), MXSTEP(=I1) steps                                            \n",
      " taken on this call before reaching TOUT.                                        \n",
      "In the above message, I1 =      10000\n",
      "In the above message, R1 =   0.2516722915262D+14\n",
      " ISTATE -1: Reducing time step to    356.86977549563198      years\n",
      " At current T(=R1), MXSTEP(=I1) steps                                            \n",
      " taken on this call before reaching TOUT.                                        \n",
      "In the above message, I1 =      10000\n",
      "In the above message, R1 =   0.2677740478968D+14\n",
      " ISTATE -1: Reducing time step to    5261.3773262439599      years\n",
      " At current T(=R1), MXSTEP(=I1) steps                                            \n",
      " taken on this call before reaching TOUT.                                        \n",
      "In the above message, I1 =      10000\n",
      "In the above message, R1 =   0.2827032107729D+14\n",
      " ISTATE -1: Reducing time step to    536.95862416581440      years\n",
      " At current T(=R1), MXSTEP(=I1) steps                                            \n",
      " taken on this call before reaching TOUT.                                        \n",
      "In the above message, I1 =      10000\n",
      "In the above message, R1 =   0.2991907033134D+14\n",
      " ISTATE -1: Reducing time step to    5319.3977648875079      years\n",
      " At current T(=R1), MXSTEP(=I1) steps                                            \n",
      " taken on this call before reaching TOUT.                                        \n",
      "In the above message, I1 =      10000\n",
      "In the above message, R1 =   0.3139349581667D+14\n",
      " ISTATE -1: Reducing time step to    653.49426076652674      years\n",
      "[Parallel(n_jobs=8)]: Done   8 out of   8 | elapsed:  4.0min finished\n",
      "CPU times: user 527 ms, sys: 270 ms, total: 797 ms\n",
      "Wall time: 4min 2s\n"
     ]
    }
   ],
   "execution_count": 6
  },
  {
   "cell_type": "markdown",
   "metadata": {},
   "source": [
    "## Checking Your Grid\n",
    "After running, we should do two things. First, let's add `results` to our dataframe as a new column. Positive results mean a successful UCLCHEM run and negative ones are unsuccessful. Then we can run each model through `check_element_conservation` to check the integration was successful. We'll use both these things to flag models that failed in some way."
   ]
  },
  {
   "cell_type": "code",
   "metadata": {
    "ExecuteTime": {
     "end_time": "2025-07-31T10:24:46.816218Z",
     "start_time": "2025-07-31T10:24:46.814512Z"
    }
   },
   "source": [
    "def element_check(output_file):\n",
    "    df = uclchem.analysis.read_output_file(output_file)\n",
    "    # get conservation values\n",
    "    conserves = uclchem.analysis.check_element_conservation(df)\n",
    "    # check if any error is greater than 1%\n",
    "    return all([float(x[:-1]) < 1 for x in conserves.values()])"
   ],
   "outputs": [],
   "execution_count": 7
  },
  {
   "cell_type": "code",
   "metadata": {
    "ExecuteTime": {
     "end_time": "2025-07-31T10:24:47.056124Z",
     "start_time": "2025-07-31T10:24:46.861864Z"
    }
   },
   "source": [
    "model_table[\"run_result\"] = results\n",
    "model_table[\"elements_conserved\"] = model_table[\"outputFile\"].map(element_check)\n",
    "# check both conditions are met\n",
    "model_table[\"Successful\"] = (model_table.run_result >= 0) & (\n",
    "    model_table.elements_conserved\n",
    ")"
   ],
   "outputs": [],
   "execution_count": 8
  },
  {
   "cell_type": "code",
   "metadata": {
    "ExecuteTime": {
     "end_time": "2025-07-31T10:24:47.068240Z",
     "start_time": "2025-07-31T10:24:47.064282Z"
    }
   },
   "source": [
    "model_table.head()"
   ],
   "outputs": [
    {
     "data": {
      "text/plain": [
       "   temperature    density    zeta                              outputFile  \\\n",
       "0         10.0    10000.0    10.0    ../grid_folder/10.0_10000.0_10.0.csv   \n",
       "1         10.0    10000.0  1000.0  ../grid_folder/10.0_10000.0_1000.0.csv   \n",
       "2         50.0    10000.0    10.0    ../grid_folder/50.0_10000.0_10.0.csv   \n",
       "3         50.0    10000.0  1000.0  ../grid_folder/50.0_10000.0_1000.0.csv   \n",
       "4         10.0  1000000.0    10.0  ../grid_folder/10.0_1000000.0_10.0.csv   \n",
       "\n",
       "   run_result  elements_conserved  Successful  \n",
       "0           0                True        True  \n",
       "1           0                True        True  \n",
       "2           0                True        True  \n",
       "3           0                True        True  \n",
       "4           0                True        True  "
      ],
      "text/html": [
       "<div>\n",
       "<style scoped>\n",
       "    .dataframe tbody tr th:only-of-type {\n",
       "        vertical-align: middle;\n",
       "    }\n",
       "\n",
       "    .dataframe tbody tr th {\n",
       "        vertical-align: top;\n",
       "    }\n",
       "\n",
       "    .dataframe thead th {\n",
       "        text-align: right;\n",
       "    }\n",
       "</style>\n",
       "<table border=\"1\" class=\"dataframe\">\n",
       "  <thead>\n",
       "    <tr style=\"text-align: right;\">\n",
       "      <th></th>\n",
       "      <th>temperature</th>\n",
       "      <th>density</th>\n",
       "      <th>zeta</th>\n",
       "      <th>outputFile</th>\n",
       "      <th>run_result</th>\n",
       "      <th>elements_conserved</th>\n",
       "      <th>Successful</th>\n",
       "    </tr>\n",
       "  </thead>\n",
       "  <tbody>\n",
       "    <tr>\n",
       "      <th>0</th>\n",
       "      <td>10.0</td>\n",
       "      <td>10000.0</td>\n",
       "      <td>10.0</td>\n",
       "      <td>../grid_folder/10.0_10000.0_10.0.csv</td>\n",
       "      <td>0</td>\n",
       "      <td>True</td>\n",
       "      <td>True</td>\n",
       "    </tr>\n",
       "    <tr>\n",
       "      <th>1</th>\n",
       "      <td>10.0</td>\n",
       "      <td>10000.0</td>\n",
       "      <td>1000.0</td>\n",
       "      <td>../grid_folder/10.0_10000.0_1000.0.csv</td>\n",
       "      <td>0</td>\n",
       "      <td>True</td>\n",
       "      <td>True</td>\n",
       "    </tr>\n",
       "    <tr>\n",
       "      <th>2</th>\n",
       "      <td>50.0</td>\n",
       "      <td>10000.0</td>\n",
       "      <td>10.0</td>\n",
       "      <td>../grid_folder/50.0_10000.0_10.0.csv</td>\n",
       "      <td>0</td>\n",
       "      <td>True</td>\n",
       "      <td>True</td>\n",
       "    </tr>\n",
       "    <tr>\n",
       "      <th>3</th>\n",
       "      <td>50.0</td>\n",
       "      <td>10000.0</td>\n",
       "      <td>1000.0</td>\n",
       "      <td>../grid_folder/50.0_10000.0_1000.0.csv</td>\n",
       "      <td>0</td>\n",
       "      <td>True</td>\n",
       "      <td>True</td>\n",
       "    </tr>\n",
       "    <tr>\n",
       "      <th>4</th>\n",
       "      <td>10.0</td>\n",
       "      <td>1000000.0</td>\n",
       "      <td>10.0</td>\n",
       "      <td>../grid_folder/10.0_1000000.0_10.0.csv</td>\n",
       "      <td>0</td>\n",
       "      <td>True</td>\n",
       "      <td>True</td>\n",
       "    </tr>\n",
       "  </tbody>\n",
       "</table>\n",
       "</div>"
      ]
     },
     "execution_count": 9,
     "metadata": {},
     "output_type": "execute_result"
    }
   ],
   "execution_count": 9
  },
  {
   "cell_type": "markdown",
   "metadata": {},
   "source": [
    "## Complex Grid\n",
    "\n",
    "The above was straightforward enough but what about a modelling a grid of shocks? Not only do we want to loop over relevant parameters, we also need to run a few preliminary models to give ourselves starting abundances. We'll start by defining two helper functions, one to run our preliminary cloud and one to run the shock.\n",
    "\n",
    "Let's further imagine that we want to obtain the abundances of several species at the end of the model. We can use the `out_species` parameter to specify which species we want to track and return them to our dataframe."
   ]
  },
  {
   "metadata": {
    "ExecuteTime": {
     "end_time": "2025-07-31T10:24:59.863161Z",
     "start_time": "2025-07-31T10:24:59.859069Z"
    }
   },
   "cell_type": "code",
   "source": [
    "out_species = [\"CO\", \"H2O\", \"CH3OH\"]\n",
    "\n",
    "\n",
    "def run_prelim(density):\n",
    "    # basic set of parameters we'll use for this grid.\n",
    "    ParameterDictionary = {\n",
    "        \"endatfinaldensity\": True,\n",
    "        \"freefall\": True,\n",
    "        \"initialDens\": 1e2,\n",
    "        \"finalDens\": float(density),\n",
    "        \"initialTemp\": 10.0,\n",
    "        \"abundSaveFile\": f\"../grid_folder/starts/{density:.0f}.csv\",\n",
    "        \"baseAv\": 1,\n",
    "    }\n",
    "    result = uclchem.model.functional.cloud(param_dict=ParameterDictionary)\n",
    "    return result\n",
    "\n",
    "\n",
    "def run_model(row):\n",
    "    # basic set of parameters we'll use for this grid.\n",
    "    ParameterDictionary = {\n",
    "        \"endatfinaldensity\": False,\n",
    "        \"freefall\": False,\n",
    "        \"initialDens\": float(row.density),\n",
    "        \"initialTemp\": 10.0,\n",
    "        \"outputFile\": row.outputFile,\n",
    "        \"abundLoadFile\": f\"../grid_folder/starts/{row.density:.0f}.csv\",\n",
    "        \"finalTime\": 1.0e5,\n",
    "        \"abstol_factor\": 1e-14,\n",
    "        \"abstol_min\": 1e-20,\n",
    "        \"reltol\": 1e-6,\n",
    "        \"baseAv\": 1,\n",
    "    }\n",
    "    result = uclchem.model.functional.cshock(\n",
    "        row.shock_velocity, param_dict=ParameterDictionary, out_species=out_species\n",
    "    )\n",
    "    # First check UCLCHEM's result flag to seeif it ran succesfully, if it is return the abundances\n",
    "    if result[0] == 0:\n",
    "        return result[:]\n",
    "    # if not, return NaNs because model failed\n",
    "    else:\n",
    "        return [np.nan] * len(out_species)"
   ],
   "outputs": [],
   "execution_count": 10
  },
  {
   "metadata": {},
   "cell_type": "markdown",
   "source": "Then we define our parameter space again. We'll create two folders, one to store a set of initial abundances for each starting density in our model and another to store our shock outputs."
  },
  {
   "metadata": {
    "ExecuteTime": {
     "end_time": "2025-07-31T10:25:01.400496Z",
     "start_time": "2025-07-31T10:25:01.395223Z"
    }
   },
   "cell_type": "code",
   "source": [
    "# This part can be substituted with any choice of grid\n",
    "# here we just combine various initial and final densities into an easily iterable array\n",
    "shock_velocities = np.linspace(10, 20, 2)\n",
    "densities = np.logspace(4, 6, 2)\n",
    "\n",
    "parameterSpace = np.asarray(np.meshgrid(shock_velocities, densities)).reshape(2, -1)\n",
    "model_table = pd.DataFrame(parameterSpace.T, columns=[\"shock_velocity\", \"density\"])\n",
    "model_table[\"outputFile\"] = model_table.apply(\n",
    "    lambda row: f\"../grid_folder/shocks/{row.shock_velocity}_{row.density}.csv\", axis=1\n",
    ")\n",
    "print(f\"{model_table.shape[0]} models to run\")\n",
    "\n",
    "for folder in [\"starts\", \"shocks\"]:\n",
    "    if not os.path.exists(f\"../grid_folder/{folder}\"):\n",
    "        os.makedirs(f\"../grid_folder/{folder}\")"
   ],
   "outputs": [
    {
     "name": "stdout",
     "output_type": "stream",
     "text": [
      "4 models to run\n"
     ]
    }
   ],
   "execution_count": 11
  },
  {
   "cell_type": "markdown",
   "metadata": {},
   "source": [
    "We can then run our preliminary models followed by our science models. The science models will return the abundances at the final time step of each run so we can unpack those directly to our dataframe."
   ]
  },
  {
   "cell_type": "code",
   "metadata": {
    "ExecuteTime": {
     "end_time": "2025-07-31T10:25:08.756495Z",
     "start_time": "2025-07-31T10:25:02.518692Z"
    }
   },
   "source": [
    "results = Parallel(n_jobs=4, verbose=100)(\n",
    "    delayed(run_prelim)(dens) for dens in densities\n",
    ")"
   ],
   "outputs": [
    {
     "name": "stdout",
     "output_type": "stream",
     "text": [
      "[Parallel(n_jobs=4)]: Using backend LokyBackend with 4 concurrent workers.\n",
      "[Parallel(n_jobs=4)]: Done   1 tasks      | elapsed:    5.0s\n",
      "[Parallel(n_jobs=4)]: Done   2 out of   2 | elapsed:    6.2s finished\n"
     ]
    }
   ],
   "execution_count": 12
  },
  {
   "cell_type": "code",
   "metadata": {
    "ExecuteTime": {
     "end_time": "2025-07-31T10:26:29.692307Z",
     "start_time": "2025-07-31T10:25:08.768404Z"
    }
   },
   "source": [
    "results = Parallel(n_jobs=4, verbose=100)(\n",
    "    delayed(run_model)(row) for idx, row in model_table.iterrows()\n",
    ")"
   ],
   "outputs": [
    {
     "name": "stdout",
     "output_type": "stream",
     "text": [
      "[Parallel(n_jobs=4)]: Using backend LokyBackend with 4 concurrent workers.\n",
      " At current T(=R1), MXSTEP(=I1) steps                                            \n",
      " taken on this call before reaching TOUT.                                        \n",
      "In the above message, I1 =      10000\n",
      "In the above message, R1 =   0.3986009756611D+08\n",
      " ISTATE -1: Reducing time step to    2.7693115409234202E-003 years\n",
      "[Parallel(n_jobs=4)]: Done   1 tasks      | elapsed:    9.9s\n",
      " At current T(=R1), MXSTEP(=I1) steps                                            \n",
      " taken on this call before reaching TOUT.                                        \n",
      "In the above message, I1 =      10000\n",
      "In the above message, R1 =   0.4005572226128D+08\n",
      " ISTATE -1: Reducing time step to    2.1502460406415181E-003 years\n",
      " At current T(=R1), MXSTEP(=I1) steps                                            \n",
      " taken on this call before reaching TOUT.                                        \n",
      "In the above message, I1 =      10000\n",
      "In the above message, R1 =   0.4023993566155D+08\n",
      " ISTATE -1: Reducing time step to    1.5672922336361942E-003 years\n",
      "[Parallel(n_jobs=4)]: Done   2 out of   4 | elapsed:   17.4s remaining:   17.4s\n",
      " At current T(=R1), MXSTEP(=I1) steps                                            \n",
      " taken on this call before reaching TOUT.                                        \n",
      "In the above message, I1 =      10000\n",
      "In the above message, R1 =   0.4039576013680D+08\n",
      " ISTATE -1: Reducing time step to    1.0741767982815481E-003 years\n",
      " At current T(=R1), MXSTEP(=I1) steps                                            \n",
      " taken on this call before reaching TOUT.                                        \n",
      "In the above message, I1 =      10000\n",
      "In the above message, R1 =   0.4054813240635D+08\n",
      " ISTATE -1: Reducing time step to    5.9198606468520659E-004 years\n",
      " At current T(=R1), MXSTEP(=I1) steps                                            \n",
      " taken on this call before reaching TOUT.                                        \n",
      "In the above message, I1 =      10000\n",
      "In the above message, R1 =   0.4069883162720D+08\n",
      " ISTATE -1: Reducing time step to    1.1508978904799630E-004 years\n",
      " At current T(=R1), MXSTEP(=I1) steps                                            \n",
      " taken on this call before reaching TOUT.                                        \n",
      "In the above message, I1 =      10000\n",
      "In the above message, R1 =   0.4074155502427D+08\n",
      " ISTATE -1: Reducing time step to    1.1698876679802571E-002 years\n",
      " At current T(=R1), MXSTEP(=I1) steps                                            \n",
      " taken on this call before reaching TOUT.                                        \n",
      "In the above message, I1 =      10000\n",
      "In the above message, R1 =   0.4074319359958D+08\n",
      " ISTATE -1: Reducing time step to    1.1693691314804917E-002 years\n",
      " At current T(=R1), MXSTEP(=I1) steps                                            \n",
      " taken on this call before reaching TOUT.                                        \n",
      "In the above message, I1 =      10000\n",
      "In the above message, R1 =   0.4074482103374D+08\n",
      " ISTATE -1: Reducing time step to    1.1688541206644044E-002 years\n",
      " At current T(=R1), MXSTEP(=I1) steps                                            \n",
      " taken on this call before reaching TOUT.                                        \n",
      "In the above message, I1 =      10000\n",
      "In the above message, R1 =   0.4074637792785D+08\n",
      " ISTATE -1: Reducing time step to    1.1683614326465619E-002 years\n",
      " At current T(=R1), MXSTEP(=I1) steps                                            \n",
      " taken on this call before reaching TOUT.                                        \n",
      "In the above message, I1 =      10000\n",
      "In the above message, R1 =   0.4074800253218D+08\n",
      " ISTATE -1: Reducing time step to    1.1678473173452587E-002 years\n",
      " At current T(=R1), MXSTEP(=I1) steps                                            \n",
      " taken on this call before reaching TOUT.                                        \n",
      "In the above message, I1 =      10000\n",
      "In the above message, R1 =   0.4074959222620D+08\n",
      " ISTATE -1: Reducing time step to    1.1673442496109790E-002 years\n",
      " At current T(=R1), MXSTEP(=I1) steps                                            \n",
      " taken on this call before reaching TOUT.                                        \n",
      "In the above message, I1 =      10000\n",
      "In the above message, R1 =   0.4075120253087D+08\n",
      " ISTATE -1: Reducing time step to    1.1668346595176389E-002 years\n",
      " At current T(=R1), MXSTEP(=I1) steps                                            \n",
      " taken on this call before reaching TOUT.                                        \n",
      "In the above message, I1 =      10000\n",
      "In the above message, R1 =   0.4075287633719D+08\n",
      " ISTATE -1: Reducing time step to    1.1663049739662895E-002 years\n",
      " At current T(=R1), MXSTEP(=I1) steps                                            \n",
      " taken on this call before reaching TOUT.                                        \n",
      "In the above message, I1 =      10000\n",
      "In the above message, R1 =   0.4075447205523D+08\n",
      " ISTATE -1: Reducing time step to    1.1657999998954723E-002 years\n",
      " At current T(=R1), MXSTEP(=I1) steps                                            \n",
      " taken on this call before reaching TOUT.                                        \n",
      "In the above message, I1 =      10000\n",
      "In the above message, R1 =   0.4075601915265D+08\n",
      " ISTATE -1: Reducing time step to    1.1653104120947673E-002 years\n",
      " At current T(=R1), MXSTEP(=I1) steps                                            \n",
      " taken on this call before reaching TOUT.                                        \n",
      "In the above message, I1 =      10000\n",
      "In the above message, R1 =   0.4075758909285D+08\n",
      " ISTATE -1: Reducing time step to    1.1714019351155984E-002 years\n",
      "[Parallel(n_jobs=4)]: Done   4 out of   4 | elapsed:  1.3min finished\n"
     ]
    }
   ],
   "execution_count": 13
  },
  {
   "metadata": {
    "ExecuteTime": {
     "end_time": "2025-07-31T10:26:29.745219Z",
     "start_time": "2025-07-31T10:26:29.742121Z"
    }
   },
   "cell_type": "code",
   "source": "model_table[[\"Result\", \"Dissipation Time\"] + out_species] = results",
   "outputs": [],
   "execution_count": 14
  },
  {
   "metadata": {
    "ExecuteTime": {
     "end_time": "2025-07-31T10:26:29.793490Z",
     "start_time": "2025-07-31T10:26:29.789433Z"
    }
   },
   "cell_type": "code",
   "source": "model_table",
   "outputs": [
    {
     "data": {
      "text/plain": [
       "   shock_velocity    density                                outputFile  \\\n",
       "0            10.0    10000.0    ../grid_folder/shocks/10.0_10000.0.csv   \n",
       "1            20.0    10000.0    ../grid_folder/shocks/20.0_10000.0.csv   \n",
       "2            10.0  1000000.0  ../grid_folder/shocks/10.0_1000000.0.csv   \n",
       "3            20.0  1000000.0  ../grid_folder/shocks/20.0_1000000.0.csv   \n",
       "\n",
       "   Result  Dissipation Time            CO           H2O         CH3OH  \n",
       "0     0.0       1171.898734  6.166751e-05  2.087114e-05  1.156579e-08  \n",
       "1     0.0       1171.898734  3.325676e-05  4.462528e-05  1.297048e-11  \n",
       "2     0.0         11.718987  1.721963e-11  2.341559e-11  3.099060e-11  \n",
       "3     0.0         11.718987  3.718729e-11  2.058520e-11  6.479137e-12  "
      ],
      "text/html": [
       "<div>\n",
       "<style scoped>\n",
       "    .dataframe tbody tr th:only-of-type {\n",
       "        vertical-align: middle;\n",
       "    }\n",
       "\n",
       "    .dataframe tbody tr th {\n",
       "        vertical-align: top;\n",
       "    }\n",
       "\n",
       "    .dataframe thead th {\n",
       "        text-align: right;\n",
       "    }\n",
       "</style>\n",
       "<table border=\"1\" class=\"dataframe\">\n",
       "  <thead>\n",
       "    <tr style=\"text-align: right;\">\n",
       "      <th></th>\n",
       "      <th>shock_velocity</th>\n",
       "      <th>density</th>\n",
       "      <th>outputFile</th>\n",
       "      <th>Result</th>\n",
       "      <th>Dissipation Time</th>\n",
       "      <th>CO</th>\n",
       "      <th>H2O</th>\n",
       "      <th>CH3OH</th>\n",
       "    </tr>\n",
       "  </thead>\n",
       "  <tbody>\n",
       "    <tr>\n",
       "      <th>0</th>\n",
       "      <td>10.0</td>\n",
       "      <td>10000.0</td>\n",
       "      <td>../grid_folder/shocks/10.0_10000.0.csv</td>\n",
       "      <td>0.0</td>\n",
       "      <td>1171.898734</td>\n",
       "      <td>6.166751e-05</td>\n",
       "      <td>2.087114e-05</td>\n",
       "      <td>1.156579e-08</td>\n",
       "    </tr>\n",
       "    <tr>\n",
       "      <th>1</th>\n",
       "      <td>20.0</td>\n",
       "      <td>10000.0</td>\n",
       "      <td>../grid_folder/shocks/20.0_10000.0.csv</td>\n",
       "      <td>0.0</td>\n",
       "      <td>1171.898734</td>\n",
       "      <td>3.325676e-05</td>\n",
       "      <td>4.462528e-05</td>\n",
       "      <td>1.297048e-11</td>\n",
       "    </tr>\n",
       "    <tr>\n",
       "      <th>2</th>\n",
       "      <td>10.0</td>\n",
       "      <td>1000000.0</td>\n",
       "      <td>../grid_folder/shocks/10.0_1000000.0.csv</td>\n",
       "      <td>0.0</td>\n",
       "      <td>11.718987</td>\n",
       "      <td>1.721963e-11</td>\n",
       "      <td>2.341559e-11</td>\n",
       "      <td>3.099060e-11</td>\n",
       "    </tr>\n",
       "    <tr>\n",
       "      <th>3</th>\n",
       "      <td>20.0</td>\n",
       "      <td>1000000.0</td>\n",
       "      <td>../grid_folder/shocks/20.0_1000000.0.csv</td>\n",
       "      <td>0.0</td>\n",
       "      <td>11.718987</td>\n",
       "      <td>3.718729e-11</td>\n",
       "      <td>2.058520e-11</td>\n",
       "      <td>6.479137e-12</td>\n",
       "    </tr>\n",
       "  </tbody>\n",
       "</table>\n",
       "</div>"
      ]
     },
     "execution_count": 15,
     "metadata": {},
     "output_type": "execute_result"
    }
   ],
   "execution_count": 15
  },
  {
   "cell_type": "markdown",
   "metadata": {},
   "source": [
    "## Summary\n",
    "\n",
    "There are many ways to run grids of models and users will naturally develop their own methods. This notebook is just a simple example of how to run UCLCHEM for many parameter combinations whilst producing a useful output (the model_table) to keep track of all the combinations that were run. In a real script, we'd save the model file to csv at the end.\n",
    "\n",
    "For much larger grids, it's recommended that you find a way to make your script robust to failure. Over a huge range of parameters, it is quite likely UCLCHEM will hit integration trouble for at least a few parameter combinations. Very occasionally, UCLCHEM will get caught in a loop where it fails to integrate and cannot adjust its strategy to manage it. This isn't a problem for small grids as the model can be stopped and the tolerances adjusted. However, for very large grids, you may end up locking all threads as they each get stuck on a different model. The best solution we've found for this case is to add a check so that models in your dataframe are skipped if their file already exists, this allows you to stop and restart the grid script as needed.\n"
   ]
  }
 ],
 "metadata": {
  "jupytext": {
   "formats": "ipynb,py:light"
  },
  "kernelspec": {
   "display_name": "Python 3",
   "language": "python",
   "name": "python3"
  },
  "language_info": {
   "codemirror_mode": {
    "name": "ipython",
    "version": 3
   },
   "file_extension": ".py",
   "mimetype": "text/x-python",
   "name": "python",
   "nbconvert_exporter": "python",
   "pygments_lexer": "ipython3",
   "version": "3.12.11"
  }
 },
 "nbformat": 4,
 "nbformat_minor": 4
}
