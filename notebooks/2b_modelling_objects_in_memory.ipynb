{
 "cells": [
  {
   "metadata": {},
   "cell_type": "markdown",
   "source": [
    "# Advanced Physical Modelling in Memory\n",
    "\n",
    "In the previous tutorial, we simply modelled the chemistry of a static cloud for 1 Myr. This is unlikely to meet everybody's modelling needs and UCLCHEM is capable of modelling much more complex environments such as hot cores and shocks. In this tutorial, we model both a hot core and a shock to explore how these models work and to demonstrate the workflow that the UCLCHEM team normally follow. In tutorial 2a, we approach the modeling in a more classic approach, by writing the outputs to files, before passing them to the subsequent model class. In tutorial 2b, we calculate the exact same models, but take advantage of the model objects in order to perform all calculations in memory, bypassing the file system entirely."
   ]
  },
  {
   "metadata": {},
   "cell_type": "code",
   "outputs": [],
   "execution_count": null,
   "source": [
    "import uclchem\n",
    "import matplotlib.pyplot as plt"
   ]
  },
  {
   "metadata": {},
   "cell_type": "markdown",
   "source": [
    "## The Prestellar Core\n",
    "\n",
    "### Initial Conditions (Phase 1)\n",
    "UCLCHEM typically starts with the gas in atomic/ionic form with no molecules. However, this clearly is not appropriate when modelling an object such as a prestellar core. In these objects, the gas is already evolved and there should be molecules in the gas phase as well as ice mantles on the dust. To allow for this, one must provide some initial abundances to the model. There are many ways to do this, but we typically chose to run a preliminary model to produce our abundances. In many UCLCHEM papers, we refer to the preliminary model as *phase 1* and the science model as *phase 2*. Phase 1 simply models a collapsing cloud and phase 2 models the object in question.\n",
    "\n",
    "To do this, we will use `uclchem.model.Cloud()` to run a model where a cloud of gas collapses from a density of $10^2 cm^{-3}$ to our prestellar core density of $10^6 cm^{-3}$, keeping all other parameters constant. During this collapse, chemistry will occur, and we can assume the final abundances of this model will be reasonable starting abundances for the prestellar core."
   ]
  },
  {
   "metadata": {},
   "cell_type": "code",
   "outputs": [],
   "execution_count": null,
   "source": [
    "# set a parameter dictionary for cloud collapse model\n",
    "param_dict = {\n",
    "    \"endAtFinalDensity\": False,  # stop at finalTime\n",
    "    \"freefall\": True,  # increase density in freefall\n",
    "    \"initialDens\": 1e2,  # starting density\n",
    "    \"finalDens\": 1e6,  # final density\n",
    "    \"initialTemp\": 10.0,  # temperature of gas\n",
    "    \"finalTime\": 6.0e6,  # final time\n",
    "    \"rout\": 0.1,  # radius of cloud in pc\n",
    "    \"baseAv\": 1.0,  # visual extinction at cloud edge.\n",
    "}\n",
    "\n",
    "cloud = uclchem.model.Cloud(param_dict=param_dict)"
   ]
  },
  {
   "metadata": {},
   "cell_type": "markdown",
   "source": [
    "With that done, we have run the model and stored the outputs into the object `cloud`.\n",
    "\n",
    "### Running the Science Model (Phase 2)\n",
    "\n",
    "We need to change just a few things in `param_dict` to set up the prestellar core model. For example, want to turn off freefall and change how long the model runs for.\n",
    "\n",
    "In order to use `cloud` as a starting point for the prestellar core model, we simply pass `cloud` to the `previous_model` argument of the `uclchem.model.PrestellarCore()` class.\n"
   ]
  },
  {
   "metadata": {},
   "cell_type": "code",
   "outputs": [],
   "execution_count": null,
   "source": [
    "# change other bits of input to set up phase 2\n",
    "param_dict[\"initialDens\"] = 1e6\n",
    "param_dict[\"finalTime\"] = 1e6\n",
    "param_dict[\"freefall\"] = False\n",
    "\n",
    "# freeze out is completely overwhelmed by thermal desorption\n",
    "# so turning it off has no effect on abundances but speeds up integrator.\n",
    "param_dict[\"freezeFactor\"] = 0.0\n",
    "\n",
    "param_dict[\"abstol_factor\"] = 1e-18\n",
    "param_dict[\"reltol\"] = 1e-12\n",
    "\n",
    "p_core = uclchem.model.PrestellarCore(temp_indx=3, max_temperature=300.0, param_dict=param_dict, previous_model=cloud)"
   ]
  },
  {
   "metadata": {},
   "cell_type": "code",
   "outputs": [],
   "execution_count": null,
   "source": "p_core.check_conservation()"
  },
  {
   "metadata": {},
   "cell_type": "markdown",
   "source": [
    "Note that we've made two changes to the parameters here which aren't strictly necessary but can be helpful in certain situations.\n",
    "\n",
    "Since the gas temperature increases throughout a prestellar core model, freeze out is much slower than thermal desorption for all but the first few time steps. Turning it off doesn't affect the abundances but will speed up the solution.\n",
    "\n",
    "We also change abstol and reltol here, largely to demonstrate their use. They control the integrator accuracy and whilst making them smaller does slow down successful runs, it can make runs complete that stall completely otherwise or give correct solutions where lower tolerances allow issues like element conservation failure to sneak in. If your code does not complete or element conservation fails, you can change them.\n",
    "\n",
    "### Checking the Result\n",
    "With a successful run, we can check the output. To easily work with the output, we first retrieve the pandas dataframe version of it, then we can plot it up."
   ]
  },
  {
   "metadata": {},
   "cell_type": "code",
   "outputs": [],
   "execution_count": null,
   "source": [
    "df_p_core = p_core.get_dataframes()\n",
    "species = [\"CO\", \"H2O\", \"CH3OH\", \"#CO\", \"#H2O\", \"#CH3OH\", \"@H2O\", \"@CO\", \"@CH3OH\"]\n",
    "fig, [ax, ax2] = plt.subplots(1, 2, figsize=(16, 9))\n",
    "ax = p_core.plot_species(ax, species)\n",
    "settings = ax.set(\n",
    "    yscale=\"log\",\n",
    "    xlim=(1e2, 1e6),\n",
    "    ylim=(1e-10, 1e-2),\n",
    "    xlabel=\"Time / years\",\n",
    "    ylabel=\"Fractional Abundance\",\n",
    "    xscale=\"log\",\n",
    ")\n",
    "\n",
    "ax2.plot(df_p_core[\"Time\"], df_p_core[\"Density\"], color=\"black\")\n",
    "ax2.set(xscale=\"log\")\n",
    "ax3 = ax2.twinx()\n",
    "ax3.plot(df_p_core[\"Time\"], df_p_core[\"gasTemp\"], color=\"red\")\n",
    "ax2.set(xlabel=\"Time / year\", ylabel=\"Density\")\n",
    "ax3.set(ylabel=\"Temperature\", facecolor=\"red\", xlim=(1e2, 1e6))\n",
    "ax3.tick_params(axis=\"y\", colors=\"red\")"
   ]
  },
  {
   "metadata": {},
   "cell_type": "markdown",
   "source": "Here, we see the value of running a collapse stage before the science run. Having run a collapse, we start this model with well developed ices and having material in the surface and bulk allows us to properly model the effect of warm up in a hot core. For example, the @CO abundance is $\\sim10^{-4}$ and #CO is $\\sim10^{-6}$. As the gas warms to around 30K, the #CO abundance drops drastically as CO's binding energy is such that it is efficiently desorbed from the surface at this temperature. However, the rest of the CO is trapped in the bulk, surrounded by more strongly bound H2O molecules. Thus, the @CO abundance stays high until the gas reaches around 130K, when the H2O molecules are released along with the entire bulk."
  },
  {
   "metadata": {},
   "cell_type": "markdown",
   "source": [
    "## Shocks\n",
    "\n",
    "Essentially the same process should be followed for shocks. Let's run a C-type and J-type shock through a gas of density $10^4 cm^{-3}$. Again, we first run a simple cloud model to obtain some reasonable starting abundances, then we can run the shocks."
   ]
  },
  {
   "metadata": {},
   "cell_type": "code",
   "outputs": [],
   "execution_count": null,
   "source": [
    "# set a parameter dictionary for phase 1 collapse model\n",
    "param_dict = {\n",
    "    \"endAtFinalDensity\": False,  # stop at finalTime\n",
    "    \"freefall\": True,  # increase density in freefall\n",
    "    \"initialDens\": 1e2,  # starting density\n",
    "    \"finalDens\": 1e4,  # final density\n",
    "    \"initialTemp\": 10.0,  # temperature of gas\n",
    "    \"finalTime\": 6.0e6,  # final time\n",
    "    \"rout\": 0.1,  # radius of cloud in pc\n",
    "    \"baseAv\": 1.0,  # visual extinction at cloud edge.\n",
    "}\n",
    "\n",
    "shock_start = uclchem.model.Cloud(param_dict=param_dict)"
   ]
  },
  {
   "metadata": {},
   "cell_type": "markdown",
   "source": [
    "### C-shock\n",
    "\n",
    "We'll first run a c-shock. We choose to crate a 40 km s $^{-1}$ shock through a gas of density $10^4$ cm $^{-3}$, using the model we just produced. Note that c-shock is the only model which returns an additional output in its result list. C-Shock models include an additional variable that can be accessed, the dissipation time. This can be retrieved like so `cshock.dissipation_time` where `cshock` would be the object created using `uclchem.model.CShock()`."
   ]
  },
  {
   "metadata": {},
   "cell_type": "code",
   "outputs": [],
   "execution_count": null,
   "source": [
    "# change other bits of input to set up phase 2\n",
    "param_dict[\"initialDens\"] = 1e4\n",
    "param_dict[\"finalTime\"] = 1e6\n",
    "\n",
    "cshock = uclchem.model.CShock(shock_vel=40, param_dict=param_dict, previous_model=shock_start)"
   ]
  },
  {
   "metadata": {},
   "cell_type": "markdown",
   "source": "The code completes fine. We do get a couple of warnings though. First, we're informed that `freefall` must be set to False for the C-shock model. Then we get a few integrator warnings. These are not important and can be ignored as long as the element conservation looks ok. However, it is an indication that the integrator did struggle with these ODEs under these conditions."
  },
  {
   "metadata": {},
   "cell_type": "code",
   "outputs": [],
   "execution_count": null,
   "source": [
    "df_cshock = cshock.get_dataframes()\n",
    "cshock.check_conservation()"
   ]
  },
  {
   "metadata": {},
   "cell_type": "code",
   "outputs": [],
   "execution_count": null,
   "source": [
    "species = [\"CO\", \"H2O\", \"CH3OH\", \"NH3\", \"$CO\", \"$H2O\", \"$CH3OH\", \"$NH3\"]\n",
    "\n",
    "fig, [ax, ax2] = plt.subplots(1, 2, figsize=(16, 9))\n",
    "ax = cshock.plot_species(ax, species)\n",
    "settings = ax.set(\n",
    "    yscale=\"log\",\n",
    "    xlim=(1, 20 * cshock.dissipation_time),\n",
    "    ylim=(1e-10, 1e-2),\n",
    "    xlabel=\"Time / years\",\n",
    "    ylabel=\"Fractional Abundance\",\n",
    "    xscale=\"log\",\n",
    ")\n",
    "\n",
    "ax2.plot(df_cshock[\"Time\"], df_cshock[\"Density\"], color=\"black\")\n",
    "ax2.set(xscale=\"log\")\n",
    "ax3 = ax2.twinx()\n",
    "ax3.plot(df_cshock[\"Time\"], df_cshock[\"gasTemp\"], color=\"red\")\n",
    "ax2.set(xlabel=\"Time / year\", ylabel=\"Density\")\n",
    "ax3.set(ylabel=\"Temperature\", facecolor=\"red\", xlim=(1, 20 * cshock.dissipation_time))\n",
    "ax3.tick_params(axis=\"y\", colors=\"red\")"
   ]
  },
  {
   "metadata": {},
   "cell_type": "markdown",
   "source": [
    "### J-shock\n",
    "Running a j-shock is a simple case of changing function. We'll run a 10 km s $^{-1}$ shock through a gas of density $10^3$ cm $^{-3}$ gas this time. Note that nothing stops us using the initial abundances we produced for the c-shock. UCLCHEM will not check that the initial density matches the density of the previous model. It may not always be a good idea to do this, but we should remember the initial abundances really are just a rough approximation.\n",
    "\n",
    "By default, UCLCHEM uses 500 timepoints for a model, but this turns out to not be enough, which is why we increase the number of timepoints to 1500."
   ]
  },
  {
   "metadata": {},
   "cell_type": "code",
   "outputs": [],
   "execution_count": null,
   "source": [
    "# TODO: maybe add a function/method to adjust the number of timepoints in UCLCHEM WITHOUT restarting the kernel\n",
    "\n",
    "param_dict[\"initialDens\"] = 1e3\n",
    "param_dict[\"freefall\"] = False  # lets remember to turn it off this time\n",
    "param_dict[\"reltol\"] = 1e-12\n",
    "\n",
    "jshock = uclchem.model.JShock(shock_vel=10.0, param_dict=param_dict, previous_model=shock_start, timepoints=1500)"
   ]
  },
  {
   "metadata": {},
   "cell_type": "markdown",
   "source": "This time, we've turned off the freefall option and made reltol a little more stringent. The j-shock ends up running a bit slower but we get no warnings on this run."
  },
  {
   "metadata": {},
   "cell_type": "code",
   "outputs": [],
   "execution_count": null,
   "source": [
    "df_jshock = jshock.get_dataframes()\n",
    "jshock.check_conservation()"
   ]
  },
  {
   "metadata": {},
   "cell_type": "code",
   "outputs": [],
   "execution_count": null,
   "source": [
    "species = [\"CO\", \"H2O\", \"CH3OH\", \"NH3\", \"$CO\", \"$H2O\", \"$CH3OH\", \"$NH3\"]\n",
    "\n",
    "fig, [ax, ax2] = plt.subplots(1, 2, figsize=(16, 9))\n",
    "ax = jshock.plot_species(ax, species)\n",
    "settings = ax.set(\n",
    "    yscale=\"log\",\n",
    "    xlim=(1e-7, 1e6),\n",
    "    ylim=(1e-10, 1e-2),\n",
    "    xlabel=\"Time / years\",\n",
    "    ylabel=\"Fractional Abundance\",\n",
    "    xscale=\"log\",\n",
    ")\n",
    "\n",
    "ax2.plot(df_jshock[\"Time\"], df_jshock[\"Density\"], color=\"black\")\n",
    "ax2.set(xscale=\"log\", yscale=\"log\")\n",
    "ax3 = ax2.twinx()\n",
    "ax3.plot(df_jshock[\"Time\"], df_jshock[\"gasTemp\"], color=\"red\")\n",
    "ax2.set(xlabel=\"Time / year\", ylabel=\"Density\")\n",
    "ax3.set(ylabel=\"Temperature\", facecolor=\"red\", xlim=(1e-7, 1e6))\n",
    "ax3.tick_params(axis=\"y\", colors=\"red\")"
   ]
  },
  {
   "metadata": {},
   "cell_type": "markdown",
   "source": [
    "That's everything! We've run various science models using reasonable starting abundances that we produced by running a simple UCLCHEM model beforehand. One benefit of this method is that the abundances are consistent with the network. If we start with arbitrary, perhaps observationally motivated, abundances, it would be possible to initiate the model in a state our network could never produce.\n",
    "\n",
    "However, one should be aware of the limitations of this method. A freefall collapse from low density to high is not really how a molecular cloud forms and so the abundances are only approximately similar to values they'd truly have in a real cloud. Testing whether your results are sensitive to things like the time you run the preliminary for or the exact density is a good way to make sure these approximations are not problematic.\n",
    "\n",
    "Bear in mind that all model objects can be passed as inputs to `previous_model`. This lets you chain model runs together. For example, you could run a c-shock from a cloud model as we did here and then a j-shock with the c-shock object as the previous model."
   ]
  }
 ],
 "metadata": {
  "jupytext": {
   "formats": "ipynb,py:light"
  },
  "kernelspec": {
   "display_name": "Python 3",
   "language": "python",
   "name": "python3"
  },
  "language_info": {
   "codemirror_mode": {
    "name": "ipython",
    "version": 3
   },
   "file_extension": ".py",
   "mimetype": "text/x-python",
   "name": "python",
   "nbconvert_exporter": "python",
   "pygments_lexer": "ipython3",
   "version": "3.12.11"
  }
 },
 "nbformat": 4,
 "nbformat_minor": 4
}
