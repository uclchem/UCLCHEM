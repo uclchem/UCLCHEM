{
 "cells": [
  {
   "cell_type": "markdown",
   "metadata": {},
   "source": [
    "# Advanced Physical Modelling\n",
    "\n",
    "In the previous tutorial, we simply modelled the chemistry of a static cloud for 1 Myr. This is unlikely to meet everybody's modelling needs and UCLCHEM is capable of modelling much more complex environments such as hot cores and shocks. In this tutorial, we model both a hot core and a shock to explore how these models work and to demonstrate the workflow that the UCLCHEM team normally follow."
   ]
  },
  {
   "cell_type": "code",
   "execution_count": null,
   "metadata": {
    "tags": []
   },
   "outputs": [],
   "source": [
    "import uclchem\n",
    "import matplotlib.pyplot as plt\n",
    "import os"
   ]
  },
  {
   "cell_type": "markdown",
   "metadata": {},
   "source": [
    "## The Hot Core\n",
    "\n",
    "### Initial Conditions (Phase 1)\n",
    "UCLCHEM typically starts with the gas in atomic/ionic form with no molecules. However, this clearly is not appropriate when modelling an object such as a hot core. In these objects, the gas is already evolved and there should be molecules in the gas phase as well as ice mantles on the dust. To allow for this, one must provide some initial abundances to the model. There are many ways to do this but we typically chose to run a preliminary model to produce our abundances. In many UCLCHEM papers, we refer to the preliminary model as *phase 1* and the science model as *phase 2*. Phase 1 simply models a collapsing cloud and phase 2 models the object in question.\n",
    "\n",
    "To do this, we will use `uclchem.model.cloud()` to run a model where a cloud of gas collapses from a density of $10^2 cm^{-3}$ to our hot core density of $10^6 cm^{-3}$, keeping all other parameters constant. During this collapse, chemistry will occur and we can assume the final abundances of this model will be reasonable starting abundances for the hot core."
   ]
  },
  {
   "cell_type": "code",
   "execution_count": null,
   "metadata": {
    "tags": []
   },
   "outputs": [],
   "source": [
    "# set a parameter dictionary for cloud collapse model\n",
    "param_dict = {\n",
    "    \"endAtFinalDensity\": False,  # stop at finalTime\n",
    "    \"freefall\": True,  # increase density in freefall\n",
    "    \"initialDens\": 1e2,  # starting density\n",
    "    \"finalDens\": 1e6,  # final density\n",
    "    \"initialTemp\": 10.0,  # temperature of gas\n",
    "    \"finalTime\": 6.0e6,  # final time\n",
    "    \"rout\": 0.1,  # radius of cloud in pc\n",
    "    \"baseAv\": 1.0,  # visual extinction at cloud edge.\n",
    "    \"abundSaveFile\": \"../examples/test-output/startcollapse.dat\",  # save final abundances to file\n",
    "    \"outputFile\": \"../examples/test-output/phase1-full.dat\",\n",
    "}\n",
    "if not os.path.exists(\"../examples/test-output/\"):\n",
    "    os.makedirs(\"../examples/test-output/\")\n",
    "result = uclchem.model.cloud(param_dict=param_dict)\n",
    "print(result)"
   ]
  },
  {
   "cell_type": "markdown",
   "metadata": {},
   "source": [
    "With that done, we now have a file containing the final abundances of a cloud of gas after this collapse: `param_dict[\"abundSaveFile\"]` we can pass this to our hot core model to use those abundances as our initial abundances.\n",
    "\n",
    "### Running the Science Model (Phase 2)\n",
    "\n",
    "We need to change just a few things in `param_dict` to set up the hot core model. The key one is that UCLCHEM saves final abundances to `abundSaveFile` but loads them from `abundLoadFile` so we need to swap that key over to make the abundances we just produced our initial abundances.\n",
    "\n",
    "We also want to turn off freefall and change how long the model runs for.\n"
   ]
  },
  {
   "cell_type": "code",
   "execution_count": null,
   "metadata": {
    "tags": []
   },
   "outputs": [],
   "source": [
    "# change other bits of input to set up phase 2\n",
    "param_dict[\"initialDens\"] = 1e6\n",
    "param_dict[\"finalTime\"] = 1e6\n",
    "param_dict[\"freefall\"] = False\n",
    "\n",
    "# freeze out is completely overwhelmed by thermal desorption\n",
    "# so turning it off has no effect on abundances but speeds up integrator.\n",
    "param_dict[\"freezeFactor\"] = 0.0\n",
    "\n",
    "param_dict[\"abstol_factor\"] = 1e-18\n",
    "param_dict[\"reltol\"] = 1e-12\n",
    "\n",
    "# pop is dangerous, it removes the original key so you can't rerun this cell.\n",
    "param_dict[\"abundLoadFile\"] = param_dict.pop(\"abundSaveFile\")\n",
    "param_dict[\"outputFile\"] = \"../examples/test-output/phase2-full.dat\"\n",
    "\n",
    "result = uclchem.model.hot_core(\n",
    "    temp_indx=3, max_temperature=300.0, param_dict=param_dict\n",
    ")"
   ]
  },
  {
   "cell_type": "markdown",
   "metadata": {},
   "source": [
    "Note that we've changed made two changes to the parameters here which aren't strictly necessary but can be helpful in certain situations.\n",
    "\n",
    "Since the gas temperature increases throughout a hot core model, freeze out is much slower than thermal desorption for all but the first few time steps. Turning it off doesn't affect the abundances but will speed up the solution.\n",
    "\n",
    "We also change abstol and reltol here, largely to demonstrate their use. They control the integrator accuracy and whilst making them smaller does slow down successful runs, it can make runs complete that stall completely otherwise or give correct solutions where lower tolerances allow issues like element conservation failure to sneak in. If your code does not complete or element conservation fails, you can change them.\n",
    "\n",
    "### Checking the Result\n",
    "With a successful run, we can check the output. We first load the file and check the abundance conservation, then we can plot it up."
   ]
  },
  {
   "cell_type": "code",
   "execution_count": null,
   "metadata": {
    "tags": []
   },
   "outputs": [],
   "source": [
    "phase2_df = uclchem.analysis.read_output_file(\"../examples/test-output/phase2-full.dat\")\n",
    "uclchem.analysis.check_element_conservation(phase2_df)"
   ]
  },
  {
   "cell_type": "code",
   "execution_count": null,
   "metadata": {
    "tags": []
   },
   "outputs": [],
   "source": [
    "phase2_df"
   ]
  },
  {
   "cell_type": "code",
   "execution_count": null,
   "metadata": {
    "tags": []
   },
   "outputs": [],
   "source": [
    "species = [\"CO\", \"H2O\", \"CH3OH\", \"#CO\", \"#H2O\", \"#CH3OH\", \"@H2O\", \"@CO\", \"@CH3OH\"]\n",
    "fig, [ax, ax2] = plt.subplots(1, 2, figsize=(16, 9))\n",
    "ax = uclchem.analysis.plot_species(ax, phase2_df, species)\n",
    "settings = ax.set(\n",
    "    yscale=\"log\",\n",
    "    xlim=(1e2, 1e6),\n",
    "    ylim=(1e-10, 1e-2),\n",
    "    xlabel=\"Time / years\",\n",
    "    ylabel=\"Fractional Abundance\",\n",
    "    xscale=\"log\",\n",
    ")\n",
    "\n",
    "ax2.plot(phase2_df[\"Time\"], phase2_df[\"Density\"], color=\"black\")\n",
    "ax2.set(xscale=\"log\")\n",
    "ax3 = ax2.twinx()\n",
    "ax3.plot(phase2_df[\"Time\"], phase2_df[\"gasTemp\"], color=\"red\")\n",
    "ax2.set(xlabel=\"Time / year\", ylabel=\"Density\")\n",
    "ax3.set(ylabel=\"Temperature\", facecolor=\"red\", xlim=(1e2, 1e6))\n",
    "ax3.tick_params(axis=\"y\", colors=\"red\")"
   ]
  },
  {
   "cell_type": "markdown",
   "metadata": {},
   "source": [
    "Here, we see the value of running a collapse phase before the science run. Having run a collapse, we start this model with well developed ices and having material in the surface and bulk allows us to properly model the effect of warm up in a hot core. For example, the @CO abundance is $\\sim10^{-4}$ and #CO is $\\sim10^{-6}$. As the gas warms to around 30K, the #CO abundance drops drastically as CO's binding energy is such that it is efficiently desorbed from the surface at this temperature. However, the rest of the CO is trapped in the bulk, surrounded by more strongly bound H2O molecules. Thus, the @CO abundance stays high until the gas reaches around 130K, when the H2O molecules are released along with the entire bulk."
   ]
  },
  {
   "cell_type": "markdown",
   "metadata": {},
   "source": [
    "## Shocks\n",
    "\n",
    "Essentially the same process should be followed for shocks. Let's run a C-type and J-type shock through a gas of density $10^4 cm^{-3}$. Again, we first run a simple cloud model to obtain some reasonable starting abundances, then we can run the shocks."
   ]
  },
  {
   "cell_type": "code",
   "execution_count": null,
   "metadata": {
    "tags": []
   },
   "outputs": [],
   "source": [
    "# set a parameter dictionary for phase 1 collapse model\n",
    "\n",
    "param_dict = {\n",
    "    \"endAtFinalDensity\": False,  # stop at finalTime\n",
    "    \"freefall\": True,  # increase density in freefall\n",
    "    \"initialDens\": 1e2,  # starting density\n",
    "    \"finalDens\": 1e4,  # final density\n",
    "    \"initialTemp\": 10.0,  # temperature of gas\n",
    "    \"finalTime\": 6.0e6,  # final time\n",
    "    \"rout\": 0.1,  # radius of cloud in pc\n",
    "    \"baseAv\": 1.0,  # visual extinction at cloud edge.\n",
    "    \"abundSaveFile\": \"../examples/test-output/shockstart.dat\",\n",
    "}\n",
    "result = uclchem.model.cloud(param_dict=param_dict)"
   ]
  },
  {
   "cell_type": "markdown",
   "metadata": {},
   "source": [
    "### C-shock\n",
    "\n",
    "We'll first run a c-shock. We'll run a 40 km s $^{-1}$ shock through a gas of density $10^4$ cm $^{-3}$, using the abundances we just produced. Note that c-shock is the only model which returns an additional output in its result list. Not only is the first element the success flag indicating whether UCLCHEM completed, the second element is the dissipation time of the shock. We'll use that time to make our plots look nicer, cutting to a reasonable time. You can also obtain it from `uclchem.utils.cshock_dissipation_time()`."
   ]
  },
  {
   "cell_type": "code",
   "execution_count": null,
   "metadata": {
    "tags": []
   },
   "outputs": [],
   "source": [
    "# change other bits of input to set up phase 2\n",
    "param_dict[\"initialDens\"] = 1e4\n",
    "param_dict[\"finalTime\"] = 1e6\n",
    "if \"abundSaveFile\" in param_dict:\n",
    "    param_dict.pop(\"abundSaveFile\")\n",
    "param_dict[\"abundLoadFile\"] = \"../examples/test-output/shockstart.dat\"\n",
    "param_dict[\"outputFile\"] = \"../examples/test-output/cshock.dat\"\n",
    "\n",
    "\n",
    "result = uclchem.model.cshock(shock_vel=40, param_dict=param_dict)\n",
    "result, dissipation_time = result"
   ]
  },
  {
   "cell_type": "markdown",
   "metadata": {},
   "source": [
    "The code completes fine. We do get a couple of warnings though. First, we're informed that `freefall` must be set to False for the C-shock model. Then we get a few integrator warnings. These are not important and can be ignored as long as the element conservation looks ok. However, it is an indication that the integrator did struggle with these ODEs under these conditions."
   ]
  },
  {
   "cell_type": "code",
   "execution_count": null,
   "metadata": {
    "tags": []
   },
   "outputs": [],
   "source": [
    "phase2_df = uclchem.analysis.read_output_file(\"../examples/test-output/cshock.dat\")\n",
    "uclchem.analysis.check_element_conservation(phase2_df)"
   ]
  },
  {
   "cell_type": "code",
   "execution_count": null,
   "metadata": {
    "tags": []
   },
   "outputs": [],
   "source": [
    "species = [\"CO\", \"H2O\", \"CH3OH\", \"NH3\", \"$CO\", \"$H2O\", \"$CH3OH\", \"$NH3\"]\n",
    "\n",
    "fig, [ax, ax2] = plt.subplots(1, 2, figsize=(16, 9))\n",
    "ax = uclchem.analysis.plot_species(ax, phase2_df, species)\n",
    "settings = ax.set(\n",
    "    yscale=\"log\",\n",
    "    xlim=(1, 20 * dissipation_time),\n",
    "    ylim=(1e-10, 1e-2),\n",
    "    xlabel=\"Time / years\",\n",
    "    ylabel=\"Fractional Abundance\",\n",
    "    xscale=\"log\",\n",
    ")\n",
    "\n",
    "ax2.plot(phase2_df[\"Time\"], phase2_df[\"Density\"], color=\"black\")\n",
    "ax2.set(xscale=\"log\")\n",
    "ax3 = ax2.twinx()\n",
    "ax3.plot(phase2_df[\"Time\"], phase2_df[\"gasTemp\"], color=\"red\")\n",
    "ax2.set(xlabel=\"Time / year\", ylabel=\"Density\")\n",
    "ax3.set(ylabel=\"Temperature\", facecolor=\"red\", xlim=(1, 20 * dissipation_time))\n",
    "ax3.tick_params(axis=\"y\", colors=\"red\")"
   ]
  },
  {
   "cell_type": "markdown",
   "metadata": {},
   "source": [
    "### J-shock\n",
    "Running a j-shock is a simple case of changing function. We'll run a 10 km s $^{-1}$ shock through a gas of density $10^3$ cm $^{-3}$ gas this time. Note that nothing stops us using the intial abundances we produced for the c-shock. UCLCHEM will not check that the initial density matches the density of the `abundLoadFile`. It may not always be a good idea to do this but we should remember the intial abundances really are just a rough approximation."
   ]
  },
  {
   "cell_type": "code",
   "execution_count": null,
   "metadata": {
    "tags": []
   },
   "outputs": [],
   "source": [
    "param_dict[\"initialDens\"] = 1e3\n",
    "param_dict[\"freefall\"] = False  # lets remember to turn it off this time\n",
    "param_dict[\"reltol\"] = 1e-12\n",
    "\n",
    "shock_vel = 10.0\n",
    "\n",
    "if \"abundSaveFile\" in param_dict:\n",
    "    param_dict.pop(\"abundSaveFile\")\n",
    "param_dict[\"abundLoadFile\"] = \"../examples/test-output/shockstart.dat\"\n",
    "param_dict[\"outputFile\"] = \"../examples/test-output/jshock.dat\"\n",
    "\n",
    "result = uclchem.model.jshock(shock_vel=shock_vel, param_dict=param_dict)"
   ]
  },
  {
   "cell_type": "code",
   "execution_count": null,
   "metadata": {},
   "outputs": [],
   "source": [
    "print(result)"
   ]
  },
  {
   "cell_type": "markdown",
   "metadata": {},
   "source": [
    "This time, we've turned off the freefall option and made reltol a little more stringent. The j-shock ends up running a bit slower but we get no warnings on this run."
   ]
  },
  {
   "cell_type": "code",
   "execution_count": null,
   "metadata": {
    "tags": []
   },
   "outputs": [],
   "source": [
    "phase2_df = uclchem.analysis.read_output_file(param_dict[\"outputFile\"])\n",
    "uclchem.analysis.check_element_conservation(phase2_df)"
   ]
  },
  {
   "cell_type": "code",
   "execution_count": null,
   "metadata": {
    "tags": []
   },
   "outputs": [],
   "source": [
    "species = [\"CO\", \"H2O\", \"CH3OH\", \"NH3\", \"$CO\", \"$H2O\", \"$CH3OH\", \"$NH3\"]\n",
    "\n",
    "fig, [ax, ax2] = plt.subplots(1, 2, figsize=(16, 9))\n",
    "ax = uclchem.analysis.plot_species(ax, phase2_df, species)\n",
    "settings = ax.set(\n",
    "    yscale=\"log\",\n",
    "    xlim=(1e-7, 1e6),\n",
    "    ylim=(1e-10, 1e-2),\n",
    "    xlabel=\"Time / years\",\n",
    "    ylabel=\"Fractional Abundance\",\n",
    "    xscale=\"log\",\n",
    ")\n",
    "\n",
    "ax2.plot(phase2_df[\"Time\"], phase2_df[\"Density\"], color=\"black\")\n",
    "ax2.set(xscale=\"log\", yscale=\"log\")\n",
    "ax3 = ax2.twinx()\n",
    "ax3.plot(phase2_df[\"Time\"], phase2_df[\"gasTemp\"], color=\"red\")\n",
    "ax2.set(xlabel=\"Time / year\", ylabel=\"Density\")\n",
    "ax3.set(ylabel=\"Temperature\", facecolor=\"red\", xlim=(1e-7, 1e6))\n",
    "ax3.tick_params(axis=\"y\", colors=\"red\")"
   ]
  },
  {
   "cell_type": "markdown",
   "metadata": {},
   "source": [
    "That's everything! We've run various science models using reasonable starting abundances that we produced by running a simple UCLCHEM model beforehand. One benefit of this method is that the abundances are consistent with the network. If we start with arbitrary, perhaps observationally motivated, abundances, it would be possible to initiate the model in a state our network could never produce.\n",
    "\n",
    "However, one should be aware of the limitations of this method. A freefall collapse from low density to high is not really how a molecular cloud forms and so the abundances are only approximately similar to values they'd truly have in a real cloud. Testing whether your results are sensitive to things like the time you run the preliminary for or the exact density is a good way to make sure these approximations are not problematic.\n",
    "\n",
    "Bear in mind that you can use `abundSaveFile` and `abundLoadFile` in the same model run. This lets you chain model runs together. For example, you could run a c-shock from a cloud model as we did here and then a j-shock with the c-shock's abundances as the initial abundances."
   ]
  }
 ],
 "metadata": {
  "interpreter": {
   "hash": "40d3a090f54c6569ab1632332b64b2c03c39dcf918b08424e98f38b5ae0af88f"
  },
  "jupytext": {
   "formats": "ipynb,py:light"
  },
  "kernelspec": {
   "display_name": "UCLCHEM 3.4.0 Release Candidate",
   "language": "python",
   "name": "uclchem_rc3.4.0"
  },
  "language_info": {
   "codemirror_mode": {
    "name": "ipython",
    "version": 3
   },
   "file_extension": ".py",
   "mimetype": "text/x-python",
   "name": "python",
   "nbconvert_exporter": "python",
   "pygments_lexer": "ipython3",
   "version": "3.11.10"
  }
 },
 "nbformat": 4,
 "nbformat_minor": 4
}
