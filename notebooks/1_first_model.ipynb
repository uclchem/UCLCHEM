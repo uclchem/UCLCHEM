{
 "cells": [
  {
   "cell_type": "markdown",
   "metadata": {},
   "source": [
    "# Running Your First Models\n",
    "\n",
    "In this notebook, we demonstrate the basic use of UCLCHEM's python module by running a simple model and then using the analysis functions to examine the output. Otherwise, it is identical to notebook 3."
   ]
  },
  {
   "cell_type": "code",
   "execution_count": null,
   "metadata": {
    "tags": []
   },
   "outputs": [],
   "source": [
    "import uclchem\n",
    "import os"
   ]
  },
  {
   "cell_type": "markdown",
   "metadata": {},
   "source": [
    "## A Simple Cloud\n",
    "\n",
    "UCLCHEM's `cloud()` model is a spherical cloud of isothermal gas. We can keep a constant density or have it increase over time following a freefall equation. This model is generally useful whenever you want to model a homogeneous cloud of gas under constant conditions. For example, in the inner parts of a molecular cloud where Av $\\gtrsim$ 10 there are very few depth dependent processes. You may wish to model the whole of this UV shielded portion of the cloud with a single `cloud()` model.\n",
    "\n",
    "Due to the large number of parameters in a chemical model and the way fortran and python interaction, we find it is easiest to do parameter input through python dictionaries. In this block, we define param_dict which contains the parameters we wish to modify for this run. Every `uclchem.model` function accepts a dictionary as an optional argument. Every parameter has a default value which is overriden if that parameter is specified in this dictionary. You can find a complete list of modifiable parameters and their default values in [our parameter docs](/docs/parameters).\n"
   ]
  },
  {
   "cell_type": "code",
   "execution_count": null,
   "metadata": {
    "tags": []
   },
   "outputs": [],
   "source": [
    "# set a parameter dictionary for phase 1 collapse model\n",
    "\n",
    "out_species = [\"SO\", \"CO\"]\n",
    "param_dict = {\n",
    "    \"endAtFinalDensity\": False,  # stop at finalTime\n",
    "    \"freefall\": False,  # don't increase density in freefall\n",
    "    \"initialDens\": 1e4,  # starting density\n",
    "    \"initialTemp\": 10.0,  # temperature of gas\n",
    "    \"finalTime\": 1.0e6,  # final time\n",
    "    \"rout\": 0.1,  # radius of cloud in pc\n",
    "    \"baseAv\": 1.0,  # visual extinction at cloud edge.\n",
    "    \"outputFile\": \"../examples/test-output/static-full.dat\",  # full UCLCHEM output\n",
    "    \"abundSaveFile\": \"../examples/test-output/startstatic.dat\",  # save final abundances to file\n",
    "}\n",
    "# Ensure the output directory is present:\n",
    "if not os.path.exists(\"../examples/test-output/\"):\n",
    "    os.makedirs(\"../examples/test-output/\")\n",
    "\n",
    "result = uclchem.model.cloud(param_dict=param_dict, out_species=out_species)\n",
    "print(result)"
   ]
  },
  {
   "cell_type": "markdown",
   "metadata": {},
   "source": [
    "## Checking the output\n",
    "\n",
    "At the end of the previous cell, we printed `result` which is a list returned by every UCLCHEM model function. The first element is always an integer which will be positive if the code completed and negative otherwise. You can send negative values to `uclchem.utils.check_error()` to get a more detailed error message.\n",
    "\n",
    "The subsequent elements are the final abundances of any species listed in `out_species`, in this case we have the abundance of SO and CO. This is useful when we want to use UCLCHEM as part of something like an MCMC procedure, obtaining abundances for given parameters. However, we also write the final abundances of all species to `abundSaveFile` and the abundances of all species at every time step in `outputFile` so it is not necessary to acquire abundances in this way.\n",
    "\n",
    "The output file is just a simple csv with some header rows, UCLCHEM has a utility function to read that file into a pandas dataframe. Let's load it up and look at it.\n",
    "\n"
   ]
  },
  {
   "cell_type": "code",
   "execution_count": null,
   "metadata": {
    "tags": []
   },
   "outputs": [],
   "source": [
    "result_df = uclchem.analysis.read_output_file(\"../examples/test-output/static-full.dat\")\n",
    "result_df.head()"
   ]
  },
  {
   "cell_type": "markdown",
   "metadata": {},
   "source": [
    "We can also test whether the model run went well by checking for element conservation. We do this because integrator errors often show up as a failure to conserve elemental abundances.\n",
    "\n",
    "We can use `check_element_conservation()` to test whether we conserve elements in this run. This function returns a dictionary where each entry gives the change in the total abundance of an element as a percentage of the original abundance. In an ideal case, these values are 0\\% indicating the total abundance at the end of the model is exactly the same as the total at the start.\n",
    "\n",
    "Changes of less than 1\\% are fine for many cases but if they are too high, you could consider changing the `reltol` and `abstol` parameters that control the integrator accuracy. They are error tolerance so smaller values lead to smaller errors and (usually) longer integration times. The default values were chosen by running a large grid of models and choosing the tolerances with the lowest average run time from those that conserved elements well and rarely failed. Despite this, there are no one-size-fits-all perfect tolerances and you may run into issues with different networks or models."
   ]
  },
  {
   "cell_type": "code",
   "execution_count": null,
   "metadata": {
    "tags": []
   },
   "outputs": [],
   "source": [
    "conservation = uclchem.analysis.check_element_conservation(\n",
    "    result_df, element_list=[\"H\", \"N\", \"C\", \"O\", \"S\"]\n",
    ")\n",
    "print(\"Percentage change in total abundances:\")\n",
    "print(conservation)"
   ]
  },
  {
   "cell_type": "markdown",
   "metadata": {},
   "source": [
    "## Plotting Results\n",
    "Finally, you will want to plot your results. This can be done with any plotting library but UCLCHEM does provide a few functions to make quick plots. Note the use of $ symbols in the species list below, this gets the total ice abundance of a species. For two phase models, this is just the surface abudance but for three phase it is the sum of surface and bulk."
   ]
  },
  {
   "cell_type": "code",
   "execution_count": null,
   "metadata": {
    "tags": []
   },
   "outputs": [],
   "source": [
    "species = [\"H\", \"H2\", \"$H\", \"$H2\", \"H2O\", \"$H2O\", \"CO\", \"$CO\", \"$CH3OH\", \"CH3OH\"]\n",
    "fig, ax = uclchem.analysis.create_abundance_plot(result_df, species, figsize=(10, 7))\n",
    "ax = ax.set(xscale=\"log\", ylim=(1e-15, 1), xlim=(1e3, 1e6))"
   ]
  },
  {
   "cell_type": "markdown",
   "metadata": {},
   "source": [
    "and that's it! You've run your first UCLCHEM model, checked that the element conservation is correct, and plotted the abundances."
   ]
  }
 ],
 "metadata": {
  "interpreter": {
   "hash": "40d3a090f54c6569ab1632332b64b2c03c39dcf918b08424e98f38b5ae0af88f"
  },
  "jupytext": {
   "formats": "ipynb,py:light"
  },
  "kernelspec": {
   "display_name": "UCLCHEM 3.4.0 Release Candidate",
   "language": "python",
   "name": "uclchem_rc3.4.0"
  },
  "language_info": {
   "codemirror_mode": {
    "name": "ipython",
    "version": 3
   },
   "file_extension": ".py",
   "mimetype": "text/x-python",
   "name": "python",
   "nbconvert_exporter": "python",
   "pygments_lexer": "ipython3",
   "version": "3.11.10"
  }
 },
 "nbformat": 4,
 "nbformat_minor": 4
}
